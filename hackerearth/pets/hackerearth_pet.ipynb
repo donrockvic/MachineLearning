{
  "nbformat": 4,
  "nbformat_minor": 0,
  "metadata": {
    "colab": {
      "name": "hackerearth_pet",
      "provenance": [],
      "collapsed_sections": []
    },
    "kernelspec": {
      "name": "python3",
      "display_name": "Python 3"
    }
  },
  "cells": [
    {
      "cell_type": "code",
      "metadata": {
        "id": "H7oiy55MMPHQ",
        "colab_type": "code",
        "colab": {}
      },
      "source": [
        "import numpy as np\n",
        "import pandas as pd"
      ],
      "execution_count": 1,
      "outputs": []
    },
    {
      "cell_type": "code",
      "metadata": {
        "id": "k-QifzBtMYqs",
        "colab_type": "code",
        "colab": {}
      },
      "source": [
        "data1 = pd.read_csv('train.csv')"
      ],
      "execution_count": 2,
      "outputs": []
    },
    {
      "cell_type": "code",
      "metadata": {
        "id": "g89Fo7HL1smz",
        "colab_type": "code",
        "colab": {
          "base_uri": "https://localhost:8080/",
          "height": 204
        },
        "outputId": "612a2bb8-8afd-4f3f-fc06-1c9c0ca20f18"
      },
      "source": [
        "data1.head()"
      ],
      "execution_count": 212,
      "outputs": [
        {
          "output_type": "execute_result",
          "data": {
            "text/html": [
              "<div>\n",
              "<style scoped>\n",
              "    .dataframe tbody tr th:only-of-type {\n",
              "        vertical-align: middle;\n",
              "    }\n",
              "\n",
              "    .dataframe tbody tr th {\n",
              "        vertical-align: top;\n",
              "    }\n",
              "\n",
              "    .dataframe thead th {\n",
              "        text-align: right;\n",
              "    }\n",
              "</style>\n",
              "<table border=\"1\" class=\"dataframe\">\n",
              "  <thead>\n",
              "    <tr style=\"text-align: right;\">\n",
              "      <th></th>\n",
              "      <th>pet_id</th>\n",
              "      <th>issue_date</th>\n",
              "      <th>listing_date</th>\n",
              "      <th>condition</th>\n",
              "      <th>color_type</th>\n",
              "      <th>length(m)</th>\n",
              "      <th>height(cm)</th>\n",
              "      <th>X1</th>\n",
              "      <th>X2</th>\n",
              "      <th>breed_category</th>\n",
              "      <th>pet_category</th>\n",
              "    </tr>\n",
              "  </thead>\n",
              "  <tbody>\n",
              "    <tr>\n",
              "      <th>0</th>\n",
              "      <td>ANSL_69903</td>\n",
              "      <td>2016-07-10 00:00:00</td>\n",
              "      <td>2016-09-21 16:25:00</td>\n",
              "      <td>2.0</td>\n",
              "      <td>Brown Tabby</td>\n",
              "      <td>0.80</td>\n",
              "      <td>7.78</td>\n",
              "      <td>13</td>\n",
              "      <td>9</td>\n",
              "      <td>0.0</td>\n",
              "      <td>1</td>\n",
              "    </tr>\n",
              "    <tr>\n",
              "      <th>1</th>\n",
              "      <td>ANSL_69902</td>\n",
              "      <td>2016-07-10 00:00:00</td>\n",
              "      <td>2016-09-21 16:25:00</td>\n",
              "      <td>2.0</td>\n",
              "      <td>Pink</td>\n",
              "      <td>0.80</td>\n",
              "      <td>7.78</td>\n",
              "      <td>13</td>\n",
              "      <td>9</td>\n",
              "      <td>0.0</td>\n",
              "      <td>1</td>\n",
              "    </tr>\n",
              "    <tr>\n",
              "      <th>2</th>\n",
              "      <td>ANSL_66892</td>\n",
              "      <td>2013-11-21 00:00:00</td>\n",
              "      <td>2018-12-27 17:47:00</td>\n",
              "      <td>1.0</td>\n",
              "      <td>White</td>\n",
              "      <td>0.72</td>\n",
              "      <td>14.19</td>\n",
              "      <td>13</td>\n",
              "      <td>9</td>\n",
              "      <td>0.0</td>\n",
              "      <td>2</td>\n",
              "    </tr>\n",
              "    <tr>\n",
              "      <th>3</th>\n",
              "      <td>ANSL_69750</td>\n",
              "      <td>2014-09-28 00:00:00</td>\n",
              "      <td>2016-10-19 08:24:00</td>\n",
              "      <td>NaN</td>\n",
              "      <td>Brown</td>\n",
              "      <td>0.15</td>\n",
              "      <td>40.90</td>\n",
              "      <td>15</td>\n",
              "      <td>4</td>\n",
              "      <td>2.0</td>\n",
              "      <td>4</td>\n",
              "    </tr>\n",
              "    <tr>\n",
              "      <th>4</th>\n",
              "      <td>ANSL_71623</td>\n",
              "      <td>2016-12-31 00:00:00</td>\n",
              "      <td>2019-01-25 18:30:00</td>\n",
              "      <td>1.0</td>\n",
              "      <td>White</td>\n",
              "      <td>0.62</td>\n",
              "      <td>17.82</td>\n",
              "      <td>0</td>\n",
              "      <td>1</td>\n",
              "      <td>0.0</td>\n",
              "      <td>2</td>\n",
              "    </tr>\n",
              "  </tbody>\n",
              "</table>\n",
              "</div>"
            ],
            "text/plain": [
              "       pet_id           issue_date  ... breed_category  pet_category\n",
              "0  ANSL_69903  2016-07-10 00:00:00  ...            0.0             1\n",
              "1  ANSL_69902  2016-07-10 00:00:00  ...            0.0             1\n",
              "2  ANSL_66892  2013-11-21 00:00:00  ...            0.0             2\n",
              "3  ANSL_69750  2014-09-28 00:00:00  ...            2.0             4\n",
              "4  ANSL_71623  2016-12-31 00:00:00  ...            0.0             2\n",
              "\n",
              "[5 rows x 11 columns]"
            ]
          },
          "metadata": {
            "tags": []
          },
          "execution_count": 212
        }
      ]
    },
    {
      "cell_type": "code",
      "metadata": {
        "id": "Fk2aAlxmMck_",
        "colab_type": "code",
        "colab": {
          "base_uri": "https://localhost:8080/",
          "height": 221
        },
        "outputId": "ba6e39ed-42fd-4b89-8122-00ae399421ec"
      },
      "source": [
        "data1.isnull().mean()"
      ],
      "execution_count": 3,
      "outputs": [
        {
          "output_type": "execute_result",
          "data": {
            "text/plain": [
              "pet_id            0.000000\n",
              "issue_date        0.000000\n",
              "listing_date      0.000000\n",
              "condition         0.078418\n",
              "color_type        0.000000\n",
              "length(m)         0.000000\n",
              "height(cm)        0.000000\n",
              "X1                0.000000\n",
              "X2                0.000000\n",
              "breed_category    0.000000\n",
              "pet_category      0.000000\n",
              "dtype: float64"
            ]
          },
          "metadata": {
            "tags": []
          },
          "execution_count": 3
        }
      ]
    },
    {
      "cell_type": "code",
      "metadata": {
        "id": "Zbr9cNRmMg3e",
        "colab_type": "code",
        "colab": {}
      },
      "source": [
        "data = data1.drop(labels=[\"pet_id\",\"issue_date\",\"listing_date\",\"breed_category\",\"pet_category\"],axis=1)"
      ],
      "execution_count": 124,
      "outputs": []
    },
    {
      "cell_type": "code",
      "metadata": {
        "id": "kSQ1yJcYMtL5",
        "colab_type": "code",
        "colab": {
          "base_uri": "https://localhost:8080/",
          "height": 204
        },
        "outputId": "bb761d13-5148-474c-9fbc-26624b7153b5"
      },
      "source": [
        "data.head()"
      ],
      "execution_count": 5,
      "outputs": [
        {
          "output_type": "execute_result",
          "data": {
            "text/html": [
              "<div>\n",
              "<style scoped>\n",
              "    .dataframe tbody tr th:only-of-type {\n",
              "        vertical-align: middle;\n",
              "    }\n",
              "\n",
              "    .dataframe tbody tr th {\n",
              "        vertical-align: top;\n",
              "    }\n",
              "\n",
              "    .dataframe thead th {\n",
              "        text-align: right;\n",
              "    }\n",
              "</style>\n",
              "<table border=\"1\" class=\"dataframe\">\n",
              "  <thead>\n",
              "    <tr style=\"text-align: right;\">\n",
              "      <th></th>\n",
              "      <th>condition</th>\n",
              "      <th>color_type</th>\n",
              "      <th>length(m)</th>\n",
              "      <th>height(cm)</th>\n",
              "      <th>X1</th>\n",
              "      <th>X2</th>\n",
              "    </tr>\n",
              "  </thead>\n",
              "  <tbody>\n",
              "    <tr>\n",
              "      <th>0</th>\n",
              "      <td>2.0</td>\n",
              "      <td>Brown Tabby</td>\n",
              "      <td>0.80</td>\n",
              "      <td>7.78</td>\n",
              "      <td>13</td>\n",
              "      <td>9</td>\n",
              "    </tr>\n",
              "    <tr>\n",
              "      <th>1</th>\n",
              "      <td>2.0</td>\n",
              "      <td>Pink</td>\n",
              "      <td>0.80</td>\n",
              "      <td>7.78</td>\n",
              "      <td>13</td>\n",
              "      <td>9</td>\n",
              "    </tr>\n",
              "    <tr>\n",
              "      <th>2</th>\n",
              "      <td>1.0</td>\n",
              "      <td>White</td>\n",
              "      <td>0.72</td>\n",
              "      <td>14.19</td>\n",
              "      <td>13</td>\n",
              "      <td>9</td>\n",
              "    </tr>\n",
              "    <tr>\n",
              "      <th>3</th>\n",
              "      <td>NaN</td>\n",
              "      <td>Brown</td>\n",
              "      <td>0.15</td>\n",
              "      <td>40.90</td>\n",
              "      <td>15</td>\n",
              "      <td>4</td>\n",
              "    </tr>\n",
              "    <tr>\n",
              "      <th>4</th>\n",
              "      <td>1.0</td>\n",
              "      <td>White</td>\n",
              "      <td>0.62</td>\n",
              "      <td>17.82</td>\n",
              "      <td>0</td>\n",
              "      <td>1</td>\n",
              "    </tr>\n",
              "  </tbody>\n",
              "</table>\n",
              "</div>"
            ],
            "text/plain": [
              "   condition   color_type  length(m)  height(cm)  X1  X2\n",
              "0        2.0  Brown Tabby       0.80        7.78  13   9\n",
              "1        2.0         Pink       0.80        7.78  13   9\n",
              "2        1.0        White       0.72       14.19  13   9\n",
              "3        NaN        Brown       0.15       40.90  15   4\n",
              "4        1.0        White       0.62       17.82   0   1"
            ]
          },
          "metadata": {
            "tags": []
          },
          "execution_count": 5
        }
      ]
    },
    {
      "cell_type": "code",
      "metadata": {
        "id": "jAuJZHCQMuyq",
        "colab_type": "code",
        "colab": {}
      },
      "source": [
        "data_train = data[data[\"condition\"].notnull()].drop(\"condition\", axis=1)\n",
        "data_test = data[data[\"condition\"].isnull()].drop(\"condition\", axis=1)"
      ],
      "execution_count": 6,
      "outputs": []
    },
    {
      "cell_type": "code",
      "metadata": {
        "id": "FsJwqTS2M-vN",
        "colab_type": "code",
        "colab": {
          "base_uri": "https://localhost:8080/",
          "height": 204
        },
        "outputId": "997ce8ce-804a-4c03-ff92-f8b98e1e32e5"
      },
      "source": [
        "data_train.head()"
      ],
      "execution_count": 7,
      "outputs": [
        {
          "output_type": "execute_result",
          "data": {
            "text/html": [
              "<div>\n",
              "<style scoped>\n",
              "    .dataframe tbody tr th:only-of-type {\n",
              "        vertical-align: middle;\n",
              "    }\n",
              "\n",
              "    .dataframe tbody tr th {\n",
              "        vertical-align: top;\n",
              "    }\n",
              "\n",
              "    .dataframe thead th {\n",
              "        text-align: right;\n",
              "    }\n",
              "</style>\n",
              "<table border=\"1\" class=\"dataframe\">\n",
              "  <thead>\n",
              "    <tr style=\"text-align: right;\">\n",
              "      <th></th>\n",
              "      <th>color_type</th>\n",
              "      <th>length(m)</th>\n",
              "      <th>height(cm)</th>\n",
              "      <th>X1</th>\n",
              "      <th>X2</th>\n",
              "    </tr>\n",
              "  </thead>\n",
              "  <tbody>\n",
              "    <tr>\n",
              "      <th>0</th>\n",
              "      <td>Brown Tabby</td>\n",
              "      <td>0.80</td>\n",
              "      <td>7.78</td>\n",
              "      <td>13</td>\n",
              "      <td>9</td>\n",
              "    </tr>\n",
              "    <tr>\n",
              "      <th>1</th>\n",
              "      <td>Pink</td>\n",
              "      <td>0.80</td>\n",
              "      <td>7.78</td>\n",
              "      <td>13</td>\n",
              "      <td>9</td>\n",
              "    </tr>\n",
              "    <tr>\n",
              "      <th>2</th>\n",
              "      <td>White</td>\n",
              "      <td>0.72</td>\n",
              "      <td>14.19</td>\n",
              "      <td>13</td>\n",
              "      <td>9</td>\n",
              "    </tr>\n",
              "    <tr>\n",
              "      <th>4</th>\n",
              "      <td>White</td>\n",
              "      <td>0.62</td>\n",
              "      <td>17.82</td>\n",
              "      <td>0</td>\n",
              "      <td>1</td>\n",
              "    </tr>\n",
              "    <tr>\n",
              "      <th>5</th>\n",
              "      <td>Black</td>\n",
              "      <td>0.50</td>\n",
              "      <td>11.06</td>\n",
              "      <td>18</td>\n",
              "      <td>4</td>\n",
              "    </tr>\n",
              "  </tbody>\n",
              "</table>\n",
              "</div>"
            ],
            "text/plain": [
              "    color_type  length(m)  height(cm)  X1  X2\n",
              "0  Brown Tabby       0.80        7.78  13   9\n",
              "1         Pink       0.80        7.78  13   9\n",
              "2        White       0.72       14.19  13   9\n",
              "4        White       0.62       17.82   0   1\n",
              "5        Black       0.50       11.06  18   4"
            ]
          },
          "metadata": {
            "tags": []
          },
          "execution_count": 7
        }
      ]
    },
    {
      "cell_type": "code",
      "metadata": {
        "id": "G2WwL4WvNE8o",
        "colab_type": "code",
        "colab": {
          "base_uri": "https://localhost:8080/",
          "height": 204
        },
        "outputId": "3d5f0222-16a0-44a4-a93a-dc30ac126c2b"
      },
      "source": [
        "data_test.head()"
      ],
      "execution_count": 8,
      "outputs": [
        {
          "output_type": "execute_result",
          "data": {
            "text/html": [
              "<div>\n",
              "<style scoped>\n",
              "    .dataframe tbody tr th:only-of-type {\n",
              "        vertical-align: middle;\n",
              "    }\n",
              "\n",
              "    .dataframe tbody tr th {\n",
              "        vertical-align: top;\n",
              "    }\n",
              "\n",
              "    .dataframe thead th {\n",
              "        text-align: right;\n",
              "    }\n",
              "</style>\n",
              "<table border=\"1\" class=\"dataframe\">\n",
              "  <thead>\n",
              "    <tr style=\"text-align: right;\">\n",
              "      <th></th>\n",
              "      <th>color_type</th>\n",
              "      <th>length(m)</th>\n",
              "      <th>height(cm)</th>\n",
              "      <th>X1</th>\n",
              "      <th>X2</th>\n",
              "    </tr>\n",
              "  </thead>\n",
              "  <tbody>\n",
              "    <tr>\n",
              "      <th>3</th>\n",
              "      <td>Brown</td>\n",
              "      <td>0.15</td>\n",
              "      <td>40.90</td>\n",
              "      <td>15</td>\n",
              "      <td>4</td>\n",
              "    </tr>\n",
              "    <tr>\n",
              "      <th>22</th>\n",
              "      <td>Brown</td>\n",
              "      <td>0.45</td>\n",
              "      <td>14.00</td>\n",
              "      <td>11</td>\n",
              "      <td>4</td>\n",
              "    </tr>\n",
              "    <tr>\n",
              "      <th>36</th>\n",
              "      <td>White</td>\n",
              "      <td>0.03</td>\n",
              "      <td>21.90</td>\n",
              "      <td>13</td>\n",
              "      <td>9</td>\n",
              "    </tr>\n",
              "    <tr>\n",
              "      <th>39</th>\n",
              "      <td>Brown</td>\n",
              "      <td>0.73</td>\n",
              "      <td>8.22</td>\n",
              "      <td>0</td>\n",
              "      <td>6</td>\n",
              "    </tr>\n",
              "    <tr>\n",
              "      <th>44</th>\n",
              "      <td>Black</td>\n",
              "      <td>0.08</td>\n",
              "      <td>30.40</td>\n",
              "      <td>9</td>\n",
              "      <td>2</td>\n",
              "    </tr>\n",
              "  </tbody>\n",
              "</table>\n",
              "</div>"
            ],
            "text/plain": [
              "   color_type  length(m)  height(cm)  X1  X2\n",
              "3       Brown       0.15       40.90  15   4\n",
              "22      Brown       0.45       14.00  11   4\n",
              "36      White       0.03       21.90  13   9\n",
              "39      Brown       0.73        8.22   0   6\n",
              "44      Black       0.08       30.40   9   2"
            ]
          },
          "metadata": {
            "tags": []
          },
          "execution_count": 8
        }
      ]
    },
    {
      "cell_type": "code",
      "metadata": {
        "id": "nACcvo8iNKkb",
        "colab_type": "code",
        "colab": {}
      },
      "source": [
        "data_y = data[data[\"condition\"].notnull()].condition"
      ],
      "execution_count": 9,
      "outputs": []
    },
    {
      "cell_type": "code",
      "metadata": {
        "id": "r9U8T1YyNWP5",
        "colab_type": "code",
        "colab": {
          "base_uri": "https://localhost:8080/",
          "height": 119
        },
        "outputId": "fe9ef7aa-a7a3-4fe0-ff5a-90489c3924ce"
      },
      "source": [
        "data_y.head()"
      ],
      "execution_count": 10,
      "outputs": [
        {
          "output_type": "execute_result",
          "data": {
            "text/plain": [
              "0    2.0\n",
              "1    2.0\n",
              "2    1.0\n",
              "4    1.0\n",
              "5    2.0\n",
              "Name: condition, dtype: float64"
            ]
          },
          "metadata": {
            "tags": []
          },
          "execution_count": 10
        }
      ]
    },
    {
      "cell_type": "code",
      "metadata": {
        "id": "h6W4RgxVPVpn",
        "colab_type": "code",
        "colab": {}
      },
      "source": [
        "#encoding Categorical data - new way \n",
        "from sklearn.compose import ColumnTransformer\n",
        "from sklearn.preprocessing import LabelEncoder, OneHotEncoder\n",
        "ct = ColumnTransformer(transformers = [('encoder',OneHotEncoder(sparse=False), [0])], remainder= 'passthrough')"
      ],
      "execution_count": 11,
      "outputs": []
    },
    {
      "cell_type": "code",
      "metadata": {
        "id": "RlI4wo02PVQ7",
        "colab_type": "code",
        "colab": {
          "base_uri": "https://localhost:8080/",
          "height": 170
        },
        "outputId": "b7f8f900-d4e8-435c-b0f9-98397158b058"
      },
      "source": [
        "ct.get_params "
      ],
      "execution_count": 12,
      "outputs": [
        {
          "output_type": "execute_result",
          "data": {
            "text/plain": [
              "<bound method ColumnTransformer.get_params of ColumnTransformer(n_jobs=None, remainder='passthrough', sparse_threshold=0.3,\n",
              "                  transformer_weights=None,\n",
              "                  transformers=[('encoder',\n",
              "                                 OneHotEncoder(categories='auto', drop=None,\n",
              "                                               dtype=<class 'numpy.float64'>,\n",
              "                                               handle_unknown='error',\n",
              "                                               sparse=False),\n",
              "                                 [0])],\n",
              "                  verbose=False)>"
            ]
          },
          "metadata": {
            "tags": []
          },
          "execution_count": 12
        }
      ]
    },
    {
      "cell_type": "code",
      "metadata": {
        "id": "5RolxmnlPUZ2",
        "colab_type": "code",
        "colab": {
          "base_uri": "https://localhost:8080/",
          "height": 170
        },
        "outputId": "18df764d-ae18-46d5-f2a4-eaf29ba61b69"
      },
      "source": [
        "ct.fit(data_train)"
      ],
      "execution_count": 13,
      "outputs": [
        {
          "output_type": "execute_result",
          "data": {
            "text/plain": [
              "ColumnTransformer(n_jobs=None, remainder='passthrough', sparse_threshold=0.3,\n",
              "                  transformer_weights=None,\n",
              "                  transformers=[('encoder',\n",
              "                                 OneHotEncoder(categories='auto', drop=None,\n",
              "                                               dtype=<class 'numpy.float64'>,\n",
              "                                               handle_unknown='error',\n",
              "                                               sparse=False),\n",
              "                                 [0])],\n",
              "                  verbose=False)"
            ]
          },
          "metadata": {
            "tags": []
          },
          "execution_count": 13
        }
      ]
    },
    {
      "cell_type": "code",
      "metadata": {
        "id": "Hp4prBsePUDA",
        "colab_type": "code",
        "colab": {}
      },
      "source": [
        "tmp = ct.transform(data_train)"
      ],
      "execution_count": 14,
      "outputs": []
    },
    {
      "cell_type": "code",
      "metadata": {
        "id": "M7STmQgnNx3T",
        "colab_type": "code",
        "colab": {}
      },
      "source": [
        "from sklearn.ensemble import RandomForestClassifier"
      ],
      "execution_count": 15,
      "outputs": []
    },
    {
      "cell_type": "code",
      "metadata": {
        "id": "A55yK1fjO0Ru",
        "colab_type": "code",
        "colab": {}
      },
      "source": [
        "classifier = RandomForestClassifier()"
      ],
      "execution_count": 16,
      "outputs": []
    },
    {
      "cell_type": "code",
      "metadata": {
        "id": "mXttaVDtPGe_",
        "colab_type": "code",
        "colab": {
          "base_uri": "https://localhost:8080/",
          "height": 153
        },
        "outputId": "1e886ab6-3a07-4582-92ae-c083a993963c"
      },
      "source": [
        "classifier.get_params"
      ],
      "execution_count": 17,
      "outputs": [
        {
          "output_type": "execute_result",
          "data": {
            "text/plain": [
              "<bound method BaseEstimator.get_params of RandomForestClassifier(bootstrap=True, ccp_alpha=0.0, class_weight=None,\n",
              "                       criterion='gini', max_depth=None, max_features='auto',\n",
              "                       max_leaf_nodes=None, max_samples=None,\n",
              "                       min_impurity_decrease=0.0, min_impurity_split=None,\n",
              "                       min_samples_leaf=1, min_samples_split=2,\n",
              "                       min_weight_fraction_leaf=0.0, n_estimators=100,\n",
              "                       n_jobs=None, oob_score=False, random_state=None,\n",
              "                       verbose=0, warm_start=False)>"
            ]
          },
          "metadata": {
            "tags": []
          },
          "execution_count": 17
        }
      ]
    },
    {
      "cell_type": "code",
      "metadata": {
        "id": "frlzJP1iPIu4",
        "colab_type": "code",
        "colab": {
          "base_uri": "https://localhost:8080/",
          "height": 153
        },
        "outputId": "040bb4c2-6fdb-4a91-eb3b-1e6afc075918"
      },
      "source": [
        "classifier.fit(tmp, data_y)"
      ],
      "execution_count": 18,
      "outputs": [
        {
          "output_type": "execute_result",
          "data": {
            "text/plain": [
              "RandomForestClassifier(bootstrap=True, ccp_alpha=0.0, class_weight=None,\n",
              "                       criterion='gini', max_depth=None, max_features='auto',\n",
              "                       max_leaf_nodes=None, max_samples=None,\n",
              "                       min_impurity_decrease=0.0, min_impurity_split=None,\n",
              "                       min_samples_leaf=1, min_samples_split=2,\n",
              "                       min_weight_fraction_leaf=0.0, n_estimators=100,\n",
              "                       n_jobs=None, oob_score=False, random_state=None,\n",
              "                       verbose=0, warm_start=False)"
            ]
          },
          "metadata": {
            "tags": []
          },
          "execution_count": 18
        }
      ]
    },
    {
      "cell_type": "code",
      "metadata": {
        "id": "8Rs6Ri16W4VQ",
        "colab_type": "code",
        "colab": {}
      },
      "source": [
        "pred_train = classifier.predict(tmp)"
      ],
      "execution_count": 19,
      "outputs": []
    },
    {
      "cell_type": "code",
      "metadata": {
        "id": "DFLvH4dtXHwk",
        "colab_type": "code",
        "colab": {}
      },
      "source": [
        "from sklearn.metrics import confusion_matrix\n",
        "metrric = confusion_matrix(data_y, pred_train)"
      ],
      "execution_count": 20,
      "outputs": []
    },
    {
      "cell_type": "code",
      "metadata": {
        "id": "ZJSIxgt6Zo2t",
        "colab_type": "code",
        "colab": {
          "base_uri": "https://localhost:8080/",
          "height": 68
        },
        "outputId": "95f66b44-a691-4295-99dc-50ddfedf5890"
      },
      "source": [
        "metrric"
      ],
      "execution_count": 21,
      "outputs": [
        {
          "output_type": "execute_result",
          "data": {
            "text/plain": [
              "array([[6279,    1,    1],\n",
              "       [   2, 6817,    0],\n",
              "       [   0,    1, 4257]])"
            ]
          },
          "metadata": {
            "tags": []
          },
          "execution_count": 21
        }
      ]
    },
    {
      "cell_type": "code",
      "metadata": {
        "id": "WUdWqU_fXhL3",
        "colab_type": "code",
        "colab": {
          "base_uri": "https://localhost:8080/",
          "height": 204
        },
        "outputId": "74e12070-aded-4b2c-e4e7-8cfdc5e8b9aa"
      },
      "source": [
        "data_test.head()"
      ],
      "execution_count": 22,
      "outputs": [
        {
          "output_type": "execute_result",
          "data": {
            "text/html": [
              "<div>\n",
              "<style scoped>\n",
              "    .dataframe tbody tr th:only-of-type {\n",
              "        vertical-align: middle;\n",
              "    }\n",
              "\n",
              "    .dataframe tbody tr th {\n",
              "        vertical-align: top;\n",
              "    }\n",
              "\n",
              "    .dataframe thead th {\n",
              "        text-align: right;\n",
              "    }\n",
              "</style>\n",
              "<table border=\"1\" class=\"dataframe\">\n",
              "  <thead>\n",
              "    <tr style=\"text-align: right;\">\n",
              "      <th></th>\n",
              "      <th>color_type</th>\n",
              "      <th>length(m)</th>\n",
              "      <th>height(cm)</th>\n",
              "      <th>X1</th>\n",
              "      <th>X2</th>\n",
              "    </tr>\n",
              "  </thead>\n",
              "  <tbody>\n",
              "    <tr>\n",
              "      <th>3</th>\n",
              "      <td>Brown</td>\n",
              "      <td>0.15</td>\n",
              "      <td>40.90</td>\n",
              "      <td>15</td>\n",
              "      <td>4</td>\n",
              "    </tr>\n",
              "    <tr>\n",
              "      <th>22</th>\n",
              "      <td>Brown</td>\n",
              "      <td>0.45</td>\n",
              "      <td>14.00</td>\n",
              "      <td>11</td>\n",
              "      <td>4</td>\n",
              "    </tr>\n",
              "    <tr>\n",
              "      <th>36</th>\n",
              "      <td>White</td>\n",
              "      <td>0.03</td>\n",
              "      <td>21.90</td>\n",
              "      <td>13</td>\n",
              "      <td>9</td>\n",
              "    </tr>\n",
              "    <tr>\n",
              "      <th>39</th>\n",
              "      <td>Brown</td>\n",
              "      <td>0.73</td>\n",
              "      <td>8.22</td>\n",
              "      <td>0</td>\n",
              "      <td>6</td>\n",
              "    </tr>\n",
              "    <tr>\n",
              "      <th>44</th>\n",
              "      <td>Black</td>\n",
              "      <td>0.08</td>\n",
              "      <td>30.40</td>\n",
              "      <td>9</td>\n",
              "      <td>2</td>\n",
              "    </tr>\n",
              "  </tbody>\n",
              "</table>\n",
              "</div>"
            ],
            "text/plain": [
              "   color_type  length(m)  height(cm)  X1  X2\n",
              "3       Brown       0.15       40.90  15   4\n",
              "22      Brown       0.45       14.00  11   4\n",
              "36      White       0.03       21.90  13   9\n",
              "39      Brown       0.73        8.22   0   6\n",
              "44      Black       0.08       30.40   9   2"
            ]
          },
          "metadata": {
            "tags": []
          },
          "execution_count": 22
        }
      ]
    },
    {
      "cell_type": "code",
      "metadata": {
        "id": "6tX88WgVXiKt",
        "colab_type": "code",
        "colab": {
          "base_uri": "https://localhost:8080/",
          "height": 34
        },
        "outputId": "a63922db-aeff-4aa4-d226-19439441b07b"
      },
      "source": [
        "test_pred = classifier.predict(ct.transform(data_test)) \n",
        "test_pred"
      ],
      "execution_count": 31,
      "outputs": [
        {
          "output_type": "execute_result",
          "data": {
            "text/plain": [
              "array([2., 2., 2., ..., 2., 0., 2.])"
            ]
          },
          "metadata": {
            "tags": []
          },
          "execution_count": 31
        }
      ]
    },
    {
      "cell_type": "code",
      "metadata": {
        "id": "Y4yeVMtYl5DU",
        "colab_type": "code",
        "colab": {}
      },
      "source": [
        "for index, row in data.iterrows():\n",
        "  if math.isnan(row[\"condition\"]):\n",
        "    # print([[row[\"color_type\"],row['length(m)'],row['height(cm)'], row['X1'], row['X2']]])\n",
        "    # print(classifier.predict(ct.transform([[row[\"color_type\"],row['length(m)'],row['height(cm)'], row['X1'], row['X2']]])))\n",
        "    data.at[index, \"condition\"] = classifier.predict(ct.transform([[row[\"color_type\"],row['length(m)'],row['height(cm)'], row['X1'], row['X2']]]))\n",
        "    # print(row)\n",
        "    "
      ],
      "execution_count": 135,
      "outputs": []
    },
    {
      "cell_type": "code",
      "metadata": {
        "id": "575rH6lXnUcp",
        "colab_type": "code",
        "colab": {
          "base_uri": "https://localhost:8080/",
          "height": 49
        },
        "outputId": "777cfe73-daba-4943-c42d-8c820bb66c15"
      },
      "source": [
        "data_test = data[data[\"condition\"].isnull()].drop(\"condition\", axis=1)\n",
        "data_test"
      ],
      "execution_count": 136,
      "outputs": [
        {
          "output_type": "execute_result",
          "data": {
            "text/html": [
              "<div>\n",
              "<style scoped>\n",
              "    .dataframe tbody tr th:only-of-type {\n",
              "        vertical-align: middle;\n",
              "    }\n",
              "\n",
              "    .dataframe tbody tr th {\n",
              "        vertical-align: top;\n",
              "    }\n",
              "\n",
              "    .dataframe thead th {\n",
              "        text-align: right;\n",
              "    }\n",
              "</style>\n",
              "<table border=\"1\" class=\"dataframe\">\n",
              "  <thead>\n",
              "    <tr style=\"text-align: right;\">\n",
              "      <th></th>\n",
              "      <th>color_type</th>\n",
              "      <th>length(m)</th>\n",
              "      <th>height(cm)</th>\n",
              "      <th>X1</th>\n",
              "      <th>X2</th>\n",
              "    </tr>\n",
              "  </thead>\n",
              "  <tbody>\n",
              "  </tbody>\n",
              "</table>\n",
              "</div>"
            ],
            "text/plain": [
              "Empty DataFrame\n",
              "Columns: [color_type, length(m), height(cm), X1, X2]\n",
              "Index: []"
            ]
          },
          "metadata": {
            "tags": []
          },
          "execution_count": 136
        }
      ]
    },
    {
      "cell_type": "code",
      "metadata": {
        "id": "bqS4LyLktdjt",
        "colab_type": "code",
        "colab": {
          "base_uri": "https://localhost:8080/",
          "height": 34
        },
        "outputId": "c394fe29-777e-419d-c597-01f7b0197d72"
      },
      "source": [
        "data.shape"
      ],
      "execution_count": 152,
      "outputs": [
        {
          "output_type": "execute_result",
          "data": {
            "text/plain": [
              "(18835, 6)"
            ]
          },
          "metadata": {
            "tags": []
          },
          "execution_count": 152
        }
      ]
    },
    {
      "cell_type": "code",
      "metadata": {
        "id": "fTCNFaQtnV6z",
        "colab_type": "code",
        "colab": {
          "base_uri": "https://localhost:8080/",
          "height": 204
        },
        "outputId": "1ed3e695-ad47-4a69-e96b-0830fcf07550"
      },
      "source": [
        "data.head()"
      ],
      "execution_count": 138,
      "outputs": [
        {
          "output_type": "execute_result",
          "data": {
            "text/html": [
              "<div>\n",
              "<style scoped>\n",
              "    .dataframe tbody tr th:only-of-type {\n",
              "        vertical-align: middle;\n",
              "    }\n",
              "\n",
              "    .dataframe tbody tr th {\n",
              "        vertical-align: top;\n",
              "    }\n",
              "\n",
              "    .dataframe thead th {\n",
              "        text-align: right;\n",
              "    }\n",
              "</style>\n",
              "<table border=\"1\" class=\"dataframe\">\n",
              "  <thead>\n",
              "    <tr style=\"text-align: right;\">\n",
              "      <th></th>\n",
              "      <th>condition</th>\n",
              "      <th>color_type</th>\n",
              "      <th>length(m)</th>\n",
              "      <th>height(cm)</th>\n",
              "      <th>X1</th>\n",
              "      <th>X2</th>\n",
              "    </tr>\n",
              "  </thead>\n",
              "  <tbody>\n",
              "    <tr>\n",
              "      <th>0</th>\n",
              "      <td>2.0</td>\n",
              "      <td>Brown Tabby</td>\n",
              "      <td>0.80</td>\n",
              "      <td>7.78</td>\n",
              "      <td>13</td>\n",
              "      <td>9</td>\n",
              "    </tr>\n",
              "    <tr>\n",
              "      <th>1</th>\n",
              "      <td>2.0</td>\n",
              "      <td>Pink</td>\n",
              "      <td>0.80</td>\n",
              "      <td>7.78</td>\n",
              "      <td>13</td>\n",
              "      <td>9</td>\n",
              "    </tr>\n",
              "    <tr>\n",
              "      <th>2</th>\n",
              "      <td>1.0</td>\n",
              "      <td>White</td>\n",
              "      <td>0.72</td>\n",
              "      <td>14.19</td>\n",
              "      <td>13</td>\n",
              "      <td>9</td>\n",
              "    </tr>\n",
              "    <tr>\n",
              "      <th>3</th>\n",
              "      <td>2.0</td>\n",
              "      <td>Brown</td>\n",
              "      <td>0.15</td>\n",
              "      <td>40.90</td>\n",
              "      <td>15</td>\n",
              "      <td>4</td>\n",
              "    </tr>\n",
              "    <tr>\n",
              "      <th>4</th>\n",
              "      <td>1.0</td>\n",
              "      <td>White</td>\n",
              "      <td>0.62</td>\n",
              "      <td>17.82</td>\n",
              "      <td>0</td>\n",
              "      <td>1</td>\n",
              "    </tr>\n",
              "  </tbody>\n",
              "</table>\n",
              "</div>"
            ],
            "text/plain": [
              "   condition   color_type  length(m)  height(cm)  X1  X2\n",
              "0        2.0  Brown Tabby       0.80        7.78  13   9\n",
              "1        2.0         Pink       0.80        7.78  13   9\n",
              "2        1.0        White       0.72       14.19  13   9\n",
              "3        2.0        Brown       0.15       40.90  15   4\n",
              "4        1.0        White       0.62       17.82   0   1"
            ]
          },
          "metadata": {
            "tags": []
          },
          "execution_count": 138
        }
      ]
    },
    {
      "cell_type": "code",
      "metadata": {
        "id": "JunY_VZsr2dg",
        "colab_type": "code",
        "colab": {
          "base_uri": "https://localhost:8080/",
          "height": 136
        },
        "outputId": "31853696-cf8b-402b-8fb8-164ba499a80f"
      },
      "source": [
        "data.isnull().mean()"
      ],
      "execution_count": 142,
      "outputs": [
        {
          "output_type": "execute_result",
          "data": {
            "text/plain": [
              "condition     0.0\n",
              "color_type    0.0\n",
              "length(m)     0.0\n",
              "height(cm)    0.0\n",
              "X1            0.0\n",
              "X2            0.0\n",
              "dtype: float64"
            ]
          },
          "metadata": {
            "tags": []
          },
          "execution_count": 142
        }
      ]
    },
    {
      "cell_type": "code",
      "metadata": {
        "id": "7EFSG5VAr4ZW",
        "colab_type": "code",
        "colab": {}
      },
      "source": [
        "test = pd.read_csv(\"test.csv\")"
      ],
      "execution_count": 143,
      "outputs": []
    },
    {
      "cell_type": "code",
      "metadata": {
        "id": "wm5uGypesv6s",
        "colab_type": "code",
        "colab": {
          "base_uri": "https://localhost:8080/",
          "height": 204
        },
        "outputId": "90e72aee-45fc-4e5c-cacf-f00833a5cc9e"
      },
      "source": [
        "test.head()"
      ],
      "execution_count": 144,
      "outputs": [
        {
          "output_type": "execute_result",
          "data": {
            "text/html": [
              "<div>\n",
              "<style scoped>\n",
              "    .dataframe tbody tr th:only-of-type {\n",
              "        vertical-align: middle;\n",
              "    }\n",
              "\n",
              "    .dataframe tbody tr th {\n",
              "        vertical-align: top;\n",
              "    }\n",
              "\n",
              "    .dataframe thead th {\n",
              "        text-align: right;\n",
              "    }\n",
              "</style>\n",
              "<table border=\"1\" class=\"dataframe\">\n",
              "  <thead>\n",
              "    <tr style=\"text-align: right;\">\n",
              "      <th></th>\n",
              "      <th>pet_id</th>\n",
              "      <th>issue_date</th>\n",
              "      <th>listing_date</th>\n",
              "      <th>condition</th>\n",
              "      <th>color_type</th>\n",
              "      <th>length(m)</th>\n",
              "      <th>height(cm)</th>\n",
              "      <th>X1</th>\n",
              "      <th>X2</th>\n",
              "    </tr>\n",
              "  </thead>\n",
              "  <tbody>\n",
              "    <tr>\n",
              "      <th>0</th>\n",
              "      <td>ANSL_75005</td>\n",
              "      <td>2005-08-17 00:00:00</td>\n",
              "      <td>2017-09-07 15:35:00</td>\n",
              "      <td>0.0</td>\n",
              "      <td>Black</td>\n",
              "      <td>0.87</td>\n",
              "      <td>42.73</td>\n",
              "      <td>0</td>\n",
              "      <td>7</td>\n",
              "    </tr>\n",
              "    <tr>\n",
              "      <th>1</th>\n",
              "      <td>ANSL_76663</td>\n",
              "      <td>2018-11-15 00:00:00</td>\n",
              "      <td>2019-05-08 17:24:00</td>\n",
              "      <td>1.0</td>\n",
              "      <td>Orange Tabby</td>\n",
              "      <td>0.06</td>\n",
              "      <td>6.71</td>\n",
              "      <td>0</td>\n",
              "      <td>1</td>\n",
              "    </tr>\n",
              "    <tr>\n",
              "      <th>2</th>\n",
              "      <td>ANSL_58259</td>\n",
              "      <td>2012-10-11 00:00:00</td>\n",
              "      <td>2018-04-02 16:51:00</td>\n",
              "      <td>1.0</td>\n",
              "      <td>Black</td>\n",
              "      <td>0.24</td>\n",
              "      <td>41.21</td>\n",
              "      <td>0</td>\n",
              "      <td>7</td>\n",
              "    </tr>\n",
              "    <tr>\n",
              "      <th>3</th>\n",
              "      <td>ANSL_67171</td>\n",
              "      <td>2015-02-13 00:00:00</td>\n",
              "      <td>2018-04-06 07:25:00</td>\n",
              "      <td>1.0</td>\n",
              "      <td>Black</td>\n",
              "      <td>0.29</td>\n",
              "      <td>8.46</td>\n",
              "      <td>7</td>\n",
              "      <td>1</td>\n",
              "    </tr>\n",
              "    <tr>\n",
              "      <th>4</th>\n",
              "      <td>ANSL_72871</td>\n",
              "      <td>2017-01-18 00:00:00</td>\n",
              "      <td>2018-04-26 13:42:00</td>\n",
              "      <td>1.0</td>\n",
              "      <td>Brown</td>\n",
              "      <td>0.71</td>\n",
              "      <td>30.92</td>\n",
              "      <td>0</td>\n",
              "      <td>7</td>\n",
              "    </tr>\n",
              "  </tbody>\n",
              "</table>\n",
              "</div>"
            ],
            "text/plain": [
              "       pet_id           issue_date         listing_date  ...  height(cm) X1  X2\n",
              "0  ANSL_75005  2005-08-17 00:00:00  2017-09-07 15:35:00  ...       42.73  0   7\n",
              "1  ANSL_76663  2018-11-15 00:00:00  2019-05-08 17:24:00  ...        6.71  0   1\n",
              "2  ANSL_58259  2012-10-11 00:00:00  2018-04-02 16:51:00  ...       41.21  0   7\n",
              "3  ANSL_67171  2015-02-13 00:00:00  2018-04-06 07:25:00  ...        8.46  7   1\n",
              "4  ANSL_72871  2017-01-18 00:00:00  2018-04-26 13:42:00  ...       30.92  0   7\n",
              "\n",
              "[5 rows x 9 columns]"
            ]
          },
          "metadata": {
            "tags": []
          },
          "execution_count": 144
        }
      ]
    },
    {
      "cell_type": "code",
      "metadata": {
        "id": "oCiiCitUsxKh",
        "colab_type": "code",
        "colab": {}
      },
      "source": [
        "test1 = test.drop(labels=[\"pet_id\",\"issue_date\",\"listing_date\"], axis=1)"
      ],
      "execution_count": 146,
      "outputs": []
    },
    {
      "cell_type": "code",
      "metadata": {
        "id": "WYPbPa0Ts77g",
        "colab_type": "code",
        "colab": {
          "base_uri": "https://localhost:8080/",
          "height": 204
        },
        "outputId": "411da20a-998c-429f-b92c-f5a02181ab49"
      },
      "source": [
        "test1.head()"
      ],
      "execution_count": 147,
      "outputs": [
        {
          "output_type": "execute_result",
          "data": {
            "text/html": [
              "<div>\n",
              "<style scoped>\n",
              "    .dataframe tbody tr th:only-of-type {\n",
              "        vertical-align: middle;\n",
              "    }\n",
              "\n",
              "    .dataframe tbody tr th {\n",
              "        vertical-align: top;\n",
              "    }\n",
              "\n",
              "    .dataframe thead th {\n",
              "        text-align: right;\n",
              "    }\n",
              "</style>\n",
              "<table border=\"1\" class=\"dataframe\">\n",
              "  <thead>\n",
              "    <tr style=\"text-align: right;\">\n",
              "      <th></th>\n",
              "      <th>condition</th>\n",
              "      <th>color_type</th>\n",
              "      <th>length(m)</th>\n",
              "      <th>height(cm)</th>\n",
              "      <th>X1</th>\n",
              "      <th>X2</th>\n",
              "    </tr>\n",
              "  </thead>\n",
              "  <tbody>\n",
              "    <tr>\n",
              "      <th>0</th>\n",
              "      <td>0.0</td>\n",
              "      <td>Black</td>\n",
              "      <td>0.87</td>\n",
              "      <td>42.73</td>\n",
              "      <td>0</td>\n",
              "      <td>7</td>\n",
              "    </tr>\n",
              "    <tr>\n",
              "      <th>1</th>\n",
              "      <td>1.0</td>\n",
              "      <td>Orange Tabby</td>\n",
              "      <td>0.06</td>\n",
              "      <td>6.71</td>\n",
              "      <td>0</td>\n",
              "      <td>1</td>\n",
              "    </tr>\n",
              "    <tr>\n",
              "      <th>2</th>\n",
              "      <td>1.0</td>\n",
              "      <td>Black</td>\n",
              "      <td>0.24</td>\n",
              "      <td>41.21</td>\n",
              "      <td>0</td>\n",
              "      <td>7</td>\n",
              "    </tr>\n",
              "    <tr>\n",
              "      <th>3</th>\n",
              "      <td>1.0</td>\n",
              "      <td>Black</td>\n",
              "      <td>0.29</td>\n",
              "      <td>8.46</td>\n",
              "      <td>7</td>\n",
              "      <td>1</td>\n",
              "    </tr>\n",
              "    <tr>\n",
              "      <th>4</th>\n",
              "      <td>1.0</td>\n",
              "      <td>Brown</td>\n",
              "      <td>0.71</td>\n",
              "      <td>30.92</td>\n",
              "      <td>0</td>\n",
              "      <td>7</td>\n",
              "    </tr>\n",
              "  </tbody>\n",
              "</table>\n",
              "</div>"
            ],
            "text/plain": [
              "   condition    color_type  length(m)  height(cm)  X1  X2\n",
              "0        0.0         Black       0.87       42.73   0   7\n",
              "1        1.0  Orange Tabby       0.06        6.71   0   1\n",
              "2        1.0         Black       0.24       41.21   0   7\n",
              "3        1.0         Black       0.29        8.46   7   1\n",
              "4        1.0         Brown       0.71       30.92   0   7"
            ]
          },
          "metadata": {
            "tags": []
          },
          "execution_count": 147
        }
      ]
    },
    {
      "cell_type": "code",
      "metadata": {
        "id": "pGjgAwTKtAFw",
        "colab_type": "code",
        "colab": {
          "base_uri": "https://localhost:8080/",
          "height": 136
        },
        "outputId": "95255b5a-ef1f-4a29-a7ec-828a7e93589b"
      },
      "source": [
        "test1.isnull().mean()"
      ],
      "execution_count": 149,
      "outputs": [
        {
          "output_type": "execute_result",
          "data": {
            "text/plain": [
              "condition     0.076685\n",
              "color_type    0.000000\n",
              "length(m)     0.000000\n",
              "height(cm)    0.000000\n",
              "X1            0.000000\n",
              "X2            0.000000\n",
              "dtype: float64"
            ]
          },
          "metadata": {
            "tags": []
          },
          "execution_count": 149
        }
      ]
    },
    {
      "cell_type": "code",
      "metadata": {
        "id": "lE0MXSdmtCjB",
        "colab_type": "code",
        "colab": {}
      },
      "source": [
        "for index, row in test1.iterrows():\n",
        "  if math.isnan(row[\"condition\"]):\n",
        "    test1.at[index, \"condition\"] = classifier.predict(ct.transform([[row[\"color_type\"],row['length(m)'],row['height(cm)'], row['X1'], row['X2']]]))    "
      ],
      "execution_count": 150,
      "outputs": []
    },
    {
      "cell_type": "code",
      "metadata": {
        "id": "_qTOxvrdtNGY",
        "colab_type": "code",
        "colab": {
          "base_uri": "https://localhost:8080/",
          "height": 136
        },
        "outputId": "3f16ac63-4e20-451c-fff1-297645af7d27"
      },
      "source": [
        "test1.isnull().mean()"
      ],
      "execution_count": 151,
      "outputs": [
        {
          "output_type": "execute_result",
          "data": {
            "text/plain": [
              "condition     0.0\n",
              "color_type    0.0\n",
              "length(m)     0.0\n",
              "height(cm)    0.0\n",
              "X1            0.0\n",
              "X2            0.0\n",
              "dtype: float64"
            ]
          },
          "metadata": {
            "tags": []
          },
          "execution_count": 151
        }
      ]
    },
    {
      "cell_type": "code",
      "metadata": {
        "id": "Q22PeDwftPY1",
        "colab_type": "code",
        "colab": {
          "base_uri": "https://localhost:8080/",
          "height": 204
        },
        "outputId": "a8114e9a-bc19-48b9-fb54-8e0e9c35dcc2"
      },
      "source": [
        "Train_X = data\n",
        "Train_Y = data1[['breed_category','pet_category']]\n",
        "Train_X.head()"
      ],
      "execution_count": 155,
      "outputs": [
        {
          "output_type": "execute_result",
          "data": {
            "text/html": [
              "<div>\n",
              "<style scoped>\n",
              "    .dataframe tbody tr th:only-of-type {\n",
              "        vertical-align: middle;\n",
              "    }\n",
              "\n",
              "    .dataframe tbody tr th {\n",
              "        vertical-align: top;\n",
              "    }\n",
              "\n",
              "    .dataframe thead th {\n",
              "        text-align: right;\n",
              "    }\n",
              "</style>\n",
              "<table border=\"1\" class=\"dataframe\">\n",
              "  <thead>\n",
              "    <tr style=\"text-align: right;\">\n",
              "      <th></th>\n",
              "      <th>condition</th>\n",
              "      <th>color_type</th>\n",
              "      <th>length(m)</th>\n",
              "      <th>height(cm)</th>\n",
              "      <th>X1</th>\n",
              "      <th>X2</th>\n",
              "    </tr>\n",
              "  </thead>\n",
              "  <tbody>\n",
              "    <tr>\n",
              "      <th>0</th>\n",
              "      <td>2.0</td>\n",
              "      <td>Brown Tabby</td>\n",
              "      <td>0.80</td>\n",
              "      <td>7.78</td>\n",
              "      <td>13</td>\n",
              "      <td>9</td>\n",
              "    </tr>\n",
              "    <tr>\n",
              "      <th>1</th>\n",
              "      <td>2.0</td>\n",
              "      <td>Pink</td>\n",
              "      <td>0.80</td>\n",
              "      <td>7.78</td>\n",
              "      <td>13</td>\n",
              "      <td>9</td>\n",
              "    </tr>\n",
              "    <tr>\n",
              "      <th>2</th>\n",
              "      <td>1.0</td>\n",
              "      <td>White</td>\n",
              "      <td>0.72</td>\n",
              "      <td>14.19</td>\n",
              "      <td>13</td>\n",
              "      <td>9</td>\n",
              "    </tr>\n",
              "    <tr>\n",
              "      <th>3</th>\n",
              "      <td>2.0</td>\n",
              "      <td>Brown</td>\n",
              "      <td>0.15</td>\n",
              "      <td>40.90</td>\n",
              "      <td>15</td>\n",
              "      <td>4</td>\n",
              "    </tr>\n",
              "    <tr>\n",
              "      <th>4</th>\n",
              "      <td>1.0</td>\n",
              "      <td>White</td>\n",
              "      <td>0.62</td>\n",
              "      <td>17.82</td>\n",
              "      <td>0</td>\n",
              "      <td>1</td>\n",
              "    </tr>\n",
              "  </tbody>\n",
              "</table>\n",
              "</div>"
            ],
            "text/plain": [
              "   condition   color_type  length(m)  height(cm)  X1  X2\n",
              "0        2.0  Brown Tabby       0.80        7.78  13   9\n",
              "1        2.0         Pink       0.80        7.78  13   9\n",
              "2        1.0        White       0.72       14.19  13   9\n",
              "3        2.0        Brown       0.15       40.90  15   4\n",
              "4        1.0        White       0.62       17.82   0   1"
            ]
          },
          "metadata": {
            "tags": []
          },
          "execution_count": 155
        }
      ]
    },
    {
      "cell_type": "code",
      "metadata": {
        "id": "1BW6lBhCtur0",
        "colab_type": "code",
        "colab": {
          "base_uri": "https://localhost:8080/",
          "height": 170
        },
        "outputId": "930e8b67-b05f-45aa-97a2-ab4937485797"
      },
      "source": [
        " ct2 = ColumnTransformer(transformers = [('encoder',OneHotEncoder(sparse=False), [1])], remainder= 'passthrough')\n",
        " ct2.fit(Train_X)"
      ],
      "execution_count": 157,
      "outputs": [
        {
          "output_type": "execute_result",
          "data": {
            "text/plain": [
              "ColumnTransformer(n_jobs=None, remainder='passthrough', sparse_threshold=0.3,\n",
              "                  transformer_weights=None,\n",
              "                  transformers=[('encoder',\n",
              "                                 OneHotEncoder(categories='auto', drop=None,\n",
              "                                               dtype=<class 'numpy.float64'>,\n",
              "                                               handle_unknown='error',\n",
              "                                               sparse=False),\n",
              "                                 [1])],\n",
              "                  verbose=False)"
            ]
          },
          "metadata": {
            "tags": []
          },
          "execution_count": 157
        }
      ]
    },
    {
      "cell_type": "code",
      "metadata": {
        "id": "fTKo3BWQt923",
        "colab_type": "code",
        "colab": {
          "base_uri": "https://localhost:8080/",
          "height": 153
        },
        "outputId": "9f9b3bf3-1f21-467e-b8f1-0a7fda81eb46"
      },
      "source": [
        "classifier2 = RandomForestClassifier()\n",
        "classifier2.fit(ct2.transform(Train_X),Train_Y)"
      ],
      "execution_count": 158,
      "outputs": [
        {
          "output_type": "execute_result",
          "data": {
            "text/plain": [
              "RandomForestClassifier(bootstrap=True, ccp_alpha=0.0, class_weight=None,\n",
              "                       criterion='gini', max_depth=None, max_features='auto',\n",
              "                       max_leaf_nodes=None, max_samples=None,\n",
              "                       min_impurity_decrease=0.0, min_impurity_split=None,\n",
              "                       min_samples_leaf=1, min_samples_split=2,\n",
              "                       min_weight_fraction_leaf=0.0, n_estimators=100,\n",
              "                       n_jobs=None, oob_score=False, random_state=None,\n",
              "                       verbose=0, warm_start=False)"
            ]
          },
          "metadata": {
            "tags": []
          },
          "execution_count": 158
        }
      ]
    },
    {
      "cell_type": "code",
      "metadata": {
        "id": "SJ6Tto9Fumgu",
        "colab_type": "code",
        "colab": {}
      },
      "source": [
        "T_pred=classifier2.predict(ct2.transform(test1))"
      ],
      "execution_count": 161,
      "outputs": []
    },
    {
      "cell_type": "code",
      "metadata": {
        "id": "FyhvDueSuvnm",
        "colab_type": "code",
        "colab": {}
      },
      "source": [
        "f = open('result.csv',\"w\")\n",
        "count=0\n",
        "f.write('pet_id,breed_category,pet_category')\n",
        "for i in range(len(T_pred)):\n",
        "    f.write(f'\\n{test[\"pet_id\"][i]},{int(Test_breed[i])},{int(Test_cat[i])} ')\n",
        "    count+=1\n",
        "f.close()"
      ],
      "execution_count": 276,
      "outputs": []
    },
    {
      "cell_type": "code",
      "metadata": {
        "id": "ghdfwJ0Au7N1",
        "colab_type": "code",
        "colab": {}
      },
      "source": [
        " from sklearn.ensemble import GradientBoostingClassifier"
      ],
      "execution_count": 171,
      "outputs": []
    },
    {
      "cell_type": "code",
      "metadata": {
        "id": "wFKt0ZzEvlxU",
        "colab_type": "code",
        "colab": {
          "base_uri": "https://localhost:8080/",
          "height": 1000
        },
        "outputId": "f20d5e5b-380e-45ac-ab67-b5535e4c418c"
      },
      "source": [
        "classifier3 =  GradientBoostingClassifier(n_estimators=220,verbose=1,learning_rate=0.5)\n",
        "classifier3.fit(ct2.transform(Train_X),Train_Y.breed_category)"
      ],
      "execution_count": 268,
      "outputs": [
        {
          "output_type": "stream",
          "text": [
            "      Iter       Train Loss   Remaining Time \n",
            "         1        9477.7882           24.71s\n",
            "         2        7501.5222           26.41s\n",
            "         3        6593.3079           26.50s\n",
            "         4        6074.5481           26.72s\n",
            "         5        5819.0168           26.83s\n",
            "         6        5672.5341           26.93s\n",
            "         7        5570.0320           26.94s\n",
            "         8        5539.5563           27.69s\n",
            "         9        5508.4632           27.68s\n",
            "        10        5457.9586           27.47s\n",
            "        11        5426.6552           27.24s\n",
            "        12        5377.8079           27.09s\n",
            "        13        5355.9590           26.99s\n",
            "        14        5335.6193           26.97s\n",
            "        15        5318.0167           26.83s\n",
            "        16        5310.3794           26.77s\n",
            "        17        5295.5285           26.62s\n",
            "        18        5268.3102           26.46s\n",
            "        19        5251.4448           26.25s\n",
            "        20        5229.4786           26.07s\n",
            "        21        5212.9073           26.09s\n",
            "        22        5202.2804           25.97s\n",
            "        23        5189.8689           25.81s\n",
            "        24        5174.2859           25.64s\n",
            "        25        5158.0985           25.48s\n",
            "        26        5143.5274           25.31s\n",
            "        27        5126.7587           25.14s\n",
            "        28        5115.7340           25.08s\n",
            "        29        5096.1427           24.93s\n",
            "        30        5081.2078           24.79s\n",
            "        31        5067.8423           24.61s\n",
            "        32        5052.2319           24.46s\n",
            "        33        5036.7577           24.30s\n",
            "        34        5026.0941           24.17s\n",
            "        35        5011.8512           24.01s\n",
            "        36        4993.9381           23.90s\n",
            "        37        4985.5226           23.74s\n",
            "        38        4963.6481           23.61s\n",
            "        39        4953.8396           23.45s\n",
            "        40        4937.4540           23.30s\n",
            "        41        4927.2472           23.16s\n",
            "        42        4913.9969           23.00s\n",
            "        43        4901.5818           22.85s\n",
            "        44        4889.1715           22.79s\n",
            "        45        4879.6908           22.67s\n",
            "        46        4869.1307           22.53s\n",
            "        47        4857.5846           22.39s\n",
            "        48        4852.2968           22.26s\n",
            "        49        4844.5033           22.12s\n",
            "        50        4835.5696           21.97s\n",
            "        51        4825.0225           21.83s\n",
            "        52        4811.1514           21.74s\n",
            "        53        4802.4101           21.59s\n",
            "        54        4794.6587           21.46s\n",
            "        55        4786.4602           21.33s\n",
            "        56        4778.6035           21.19s\n",
            "        57        4768.2461           21.06s\n",
            "        58        4762.0724           20.92s\n",
            "        59        4750.8662           20.78s\n",
            "        60        4742.7954           20.68s\n",
            "        61        4722.5261           20.54s\n",
            "        62        4706.1245           20.41s\n",
            "        63        4693.2175           20.26s\n",
            "        64        4689.7374           20.12s\n",
            "        65        4680.8512           19.98s\n",
            "        66        4667.4649           19.84s\n",
            "        67        4658.1944           19.73s\n",
            "        68        4639.5741           19.60s\n",
            "        69        4622.8626           19.47s\n",
            "        70        4611.3183           19.34s\n",
            "        71        4600.1532           19.21s\n",
            "        72        4589.3178           19.08s\n",
            "        73        4574.3557           18.95s\n",
            "        74        4563.0664           18.81s\n",
            "        75        4550.3465           18.67s\n",
            "        76        4541.0645           18.55s\n",
            "        77        4535.9529           18.42s\n",
            "        78        4527.1867           18.29s\n",
            "        79        4515.5180           18.16s\n",
            "        80        4508.6632           18.04s\n",
            "        81        4497.2922           17.91s\n",
            "        82        4490.4693           17.79s\n",
            "        83        4479.9279           17.66s\n",
            "        84        4471.4467           17.54s\n",
            "        85        4460.9213           17.41s\n",
            "        86        4448.8211           17.28s\n",
            "        87        4439.8499           17.15s\n",
            "        88        4428.1203           17.03s\n",
            "        89        4417.3006           16.91s\n",
            "        90        4412.6214           16.78s\n",
            "        91        4401.8432           16.64s\n",
            "        92        4395.7458           16.53s\n",
            "        93        4385.3606           16.40s\n",
            "        94        4379.2095           16.28s\n",
            "        95        4368.7178           16.16s\n",
            "        96        4360.1875           16.03s\n",
            "        97        4347.8276           15.90s\n",
            "        98        4339.7523           15.77s\n",
            "        99        4334.6083           15.65s\n",
            "       100        4323.1424           15.52s\n",
            "       101        4311.5478           15.39s\n",
            "       102        4298.9597           15.27s\n",
            "       103        4290.0534           15.13s\n",
            "       104        4283.1580           15.01s\n",
            "       105        4273.7921           14.87s\n",
            "       106        4268.3851           14.75s\n",
            "       107        4261.3649           14.62s\n",
            "       108        4255.7852           14.51s\n",
            "       109        4247.9903           14.38s\n",
            "       110        4239.5420           14.26s\n",
            "       111        4234.3255           14.13s\n",
            "       112        4225.6422           14.00s\n",
            "       113        4216.3615           13.86s\n",
            "       114        4204.5165           13.73s\n",
            "       115        4193.5936           13.61s\n",
            "       116        4186.4913           13.48s\n",
            "       117        4177.4706           13.35s\n",
            "       118        4172.4727           13.22s\n",
            "       119        4164.4578           13.09s\n",
            "       120        4157.5465           12.96s\n",
            "       121        4147.5706           12.83s\n",
            "       122        4141.9266           12.70s\n",
            "       123        4132.3684           12.57s\n",
            "       124        4122.5908           12.44s\n",
            "       125        4110.2551           12.30s\n",
            "       126        4099.6100           12.17s\n",
            "       127        4090.9793           12.03s\n",
            "       128        4084.2634           11.91s\n",
            "       129        4073.4454           11.77s\n",
            "       130        4067.5325           11.65s\n",
            "       131        4058.1731           11.53s\n",
            "       132        4046.7300           11.40s\n",
            "       133        4035.5240           11.26s\n",
            "       134        4027.1156           11.13s\n",
            "       135        4020.6127           11.00s\n",
            "       136        4008.1185           10.87s\n",
            "       137        4001.0774           10.74s\n",
            "       138        3996.6922           10.61s\n",
            "       139        3991.0412           10.48s\n",
            "       140        3985.8160           10.35s\n",
            "       141        3979.9437           10.22s\n",
            "       142        3976.6154           10.09s\n",
            "       143        3967.5085            9.96s\n",
            "       144        3962.6549            9.83s\n",
            "       145        3954.8887            9.69s\n",
            "       146        3946.5516            9.57s\n",
            "       147        3940.9654            9.44s\n",
            "       148        3929.8616            9.31s\n",
            "       149        3923.6258            9.18s\n",
            "       150        3916.0583            9.05s\n",
            "       151        3909.1178            8.92s\n",
            "       152        3900.1939            8.78s\n",
            "       153        3897.4789            8.66s\n",
            "       154        3889.5318            8.53s\n",
            "       155        3881.2423            8.40s\n",
            "       156        3874.7425            8.27s\n",
            "       157        3867.3269            8.14s\n",
            "       158        3859.6704            8.01s\n",
            "       159        3851.7396            7.87s\n",
            "       160        3848.1216            7.75s\n",
            "       161        3844.6045            7.62s\n",
            "       162        3840.4606            7.49s\n",
            "       163        3829.6573            7.36s\n",
            "       164        3825.3921            7.23s\n",
            "       165        3820.0215            7.10s\n",
            "       166        3815.8925            6.97s\n",
            "       167        3810.9997            6.84s\n",
            "       168        3801.5829            6.71s\n",
            "       169        3795.5694            6.59s\n",
            "       170        3790.0130            6.46s\n",
            "       171        3782.3295            6.33s\n",
            "       172        3769.9858            6.21s\n",
            "       173        3767.7008            6.08s\n",
            "       174        3761.2803            5.95s\n",
            "       175        3754.3847            5.82s\n",
            "       176        3748.7231            5.69s\n",
            "       177        3744.8830            5.56s\n",
            "       178        3739.5527            5.43s\n",
            "       179        3731.1875            5.30s\n",
            "       180        3725.4927            5.17s\n",
            "       181        3719.5959            5.04s\n",
            "       182        3714.2147            4.91s\n",
            "       183        3706.6286            4.78s\n",
            "       184        3699.4777            4.65s\n",
            "       185        3692.1354            4.52s\n",
            "       186        3686.6859            4.40s\n",
            "       187        3678.6194            4.27s\n",
            "       188        3665.6136            4.14s\n",
            "       189        3653.0194            4.01s\n",
            "       190        3645.9023            3.88s\n",
            "       191        3638.7795            3.75s\n",
            "       192        3633.4731            3.62s\n",
            "       193        3622.4614            3.49s\n",
            "       194        3616.4861            3.36s\n",
            "       195        3609.7416            3.23s\n",
            "       196        3605.3372            3.10s\n",
            "       197        3599.2648            2.97s\n",
            "       198        3593.1901            2.85s\n",
            "       199        3585.5864            2.72s\n",
            "       200        3581.1533            2.59s\n",
            "       201        3573.0614            2.46s\n",
            "       202        3569.0326            2.33s\n",
            "       203        3564.0290            2.20s\n",
            "       204        3558.8864            2.07s\n",
            "       205        3550.5378            1.94s\n",
            "       206        3544.9102            1.81s\n",
            "       207        3534.7529            1.68s\n",
            "       208        3525.2112            1.55s\n",
            "       209        3521.1383            1.42s\n",
            "       210        3512.5208            1.29s\n",
            "       211        3506.6741            1.16s\n",
            "       212        3497.5570            1.03s\n",
            "       213        3494.1324            0.91s\n",
            "       214        3485.5414            0.78s\n",
            "       215        3479.2632            0.65s\n",
            "       216        3473.9007            0.52s\n",
            "       217        3465.6260            0.39s\n",
            "       218        3459.6366            0.26s\n",
            "       219        3454.3383            0.13s\n",
            "       220        3447.8307            0.00s\n"
          ],
          "name": "stdout"
        },
        {
          "output_type": "execute_result",
          "data": {
            "text/plain": [
              "GradientBoostingClassifier(ccp_alpha=0.0, criterion='friedman_mse', init=None,\n",
              "                           learning_rate=0.5, loss='deviance', max_depth=3,\n",
              "                           max_features=None, max_leaf_nodes=None,\n",
              "                           min_impurity_decrease=0.0, min_impurity_split=None,\n",
              "                           min_samples_leaf=1, min_samples_split=2,\n",
              "                           min_weight_fraction_leaf=0.0, n_estimators=220,\n",
              "                           n_iter_no_change=None, presort='deprecated',\n",
              "                           random_state=None, subsample=1.0, tol=0.0001,\n",
              "                           validation_fraction=0.1, verbose=2,\n",
              "                           warm_start=False)"
            ]
          },
          "metadata": {
            "tags": []
          },
          "execution_count": 268
        }
      ]
    },
    {
      "cell_type": "code",
      "metadata": {
        "id": "Vl-HG5aXy5oK",
        "colab_type": "code",
        "colab": {
          "base_uri": "https://localhost:8080/",
          "height": 527
        },
        "outputId": "7cbd45e5-92a2-4877-fe9b-ca4b2e9c37a4"
      },
      "source": [
        "classifier4 =  GradientBoostingClassifier(n_estimators=100,verbose=1,learning_rate=0.2)\n",
        "classifier4.fit(ct2.transform(Train_X),Train_Y.pet_category)"
      ],
      "execution_count": 244,
      "outputs": [
        {
          "output_type": "stream",
          "text": [
            "      Iter       Train Loss   Remaining Time \n",
            "         1       13422.7188           17.15s\n",
            "         2       12307.7230           17.72s\n",
            "         3       11550.2437           17.21s\n",
            "         4       10938.9046           17.21s\n",
            "         5       10471.5023           16.92s\n",
            "         6       10083.7340           16.78s\n",
            "         7        9759.7302           16.50s\n",
            "         8        9442.3075           16.33s\n",
            "         9        9131.9604           16.28s\n",
            "        10        8928.8911           16.11s\n",
            "        20        7620.0593           14.01s\n",
            "        30        6968.7455           12.00s\n",
            "        40        6591.3272           10.19s\n",
            "        50        6316.9454            8.49s\n",
            "        60        6076.2413            6.77s\n",
            "        70        5905.9538            5.07s\n",
            "        80        5772.2508            3.38s\n",
            "        90        5658.3456            1.68s\n",
            "       100        5543.0957            0.00s\n"
          ],
          "name": "stdout"
        },
        {
          "output_type": "execute_result",
          "data": {
            "text/plain": [
              "GradientBoostingClassifier(ccp_alpha=0.0, criterion='friedman_mse', init=None,\n",
              "                           learning_rate=0.2, loss='deviance', max_depth=3,\n",
              "                           max_features=None, max_leaf_nodes=None,\n",
              "                           min_impurity_decrease=0.0, min_impurity_split=None,\n",
              "                           min_samples_leaf=1, min_samples_split=2,\n",
              "                           min_weight_fraction_leaf=0.0, n_estimators=100,\n",
              "                           n_iter_no_change=None, presort='deprecated',\n",
              "                           random_state=None, subsample=1.0, tol=0.0001,\n",
              "                           validation_fraction=0.1, verbose=1,\n",
              "                           warm_start=False)"
            ]
          },
          "metadata": {
            "tags": []
          },
          "execution_count": 244
        }
      ]
    },
    {
      "cell_type": "code",
      "metadata": {
        "id": "_wweCKDsyUJG",
        "colab_type": "code",
        "colab": {
          "base_uri": "https://localhost:8080/",
          "height": 34
        },
        "outputId": "786fa7bb-bf04-4a5b-c8dd-c6e8df295900"
      },
      "source": [
        "Train_Y.columns"
      ],
      "execution_count": 176,
      "outputs": [
        {
          "output_type": "execute_result",
          "data": {
            "text/plain": [
              "Index(['breed_category', 'pet_category'], dtype='object')"
            ]
          },
          "metadata": {
            "tags": []
          },
          "execution_count": 176
        }
      ]
    },
    {
      "cell_type": "code",
      "metadata": {
        "id": "BPpwetm2ypC3",
        "colab_type": "code",
        "colab": {
          "base_uri": "https://localhost:8080/",
          "height": 221
        },
        "outputId": "75de4a02-8097-498e-dd17-813afff4935b"
      },
      "source": [
        "Train_Y.breed_category"
      ],
      "execution_count": 177,
      "outputs": [
        {
          "output_type": "execute_result",
          "data": {
            "text/plain": [
              "0        0.0\n",
              "1        0.0\n",
              "2        0.0\n",
              "3        2.0\n",
              "4        0.0\n",
              "        ... \n",
              "18830    0.0\n",
              "18831    2.0\n",
              "18832    1.0\n",
              "18833    1.0\n",
              "18834    1.0\n",
              "Name: breed_category, Length: 18835, dtype: float64"
            ]
          },
          "metadata": {
            "tags": []
          },
          "execution_count": 177
        }
      ]
    },
    {
      "cell_type": "code",
      "metadata": {
        "id": "zv_414G9zSFK",
        "colab_type": "code",
        "colab": {}
      },
      "source": [
        "Test_breed = classifier3.predict(ct2.transform(test1))\n",
        "Test_cat = classifier4.predict(ct2.transform(test1))"
      ],
      "execution_count": 274,
      "outputs": []
    },
    {
      "cell_type": "code",
      "metadata": {
        "id": "RyU2ZQ4LyxoG",
        "colab_type": "code",
        "colab": {}
      },
      "source": [
        "Train_breed = classifier3.predict(ct2.transform(Train_X))\n",
        "Train_cat = classifier4.predict(ct2.transform(Train_X))"
      ],
      "execution_count": 269,
      "outputs": []
    },
    {
      "cell_type": "code",
      "metadata": {
        "id": "IHQED4ZjzjdY",
        "colab_type": "code",
        "colab": {}
      },
      "source": [
        "met1 = confusion_matrix(Train_Y.breed_category,Train_breed)\n",
        "met2 = confusion_matrix(Train_Y.pet_category,Train_cat)"
      ],
      "execution_count": 272,
      "outputs": []
    },
    {
      "cell_type": "code",
      "metadata": {
        "id": "9j3AjYwSz6do",
        "colab_type": "code",
        "colab": {
          "base_uri": "https://localhost:8080/",
          "height": 68
        },
        "outputId": "75a1c902-d7b1-4c7e-bc12-fb8e3150ea94"
      },
      "source": [
        "met1"
      ],
      "execution_count": 273,
      "outputs": [
        {
          "output_type": "execute_result",
          "data": {
            "text/plain": [
              "array([[8675,  288,   38],\n",
              "       [ 456, 7866,   35],\n",
              "       [ 244,  192, 1041]])"
            ]
          },
          "metadata": {
            "tags": []
          },
          "execution_count": 273
        }
      ]
    },
    {
      "cell_type": "code",
      "metadata": {
        "id": "dFuZIfbIz7N5",
        "colab_type": "code",
        "colab": {
          "base_uri": "https://localhost:8080/",
          "height": 85
        },
        "outputId": "5e4a4842-f9e2-4c31-8c18-327e43687361"
      },
      "source": [
        "met2"
      ],
      "execution_count": 189,
      "outputs": [
        {
          "output_type": "execute_result",
          "data": {
            "text/plain": [
              "array([[   19,     8,    50,    11],\n",
              "       [    1,  5688,  1485,    11],\n",
              "       [    1,   547, 10032,    41],\n",
              "       [    0,    56,   196,   689]])"
            ]
          },
          "metadata": {
            "tags": []
          },
          "execution_count": 189
        }
      ]
    },
    {
      "cell_type": "code",
      "metadata": {
        "id": "wI8nyvft0I5_",
        "colab_type": "code",
        "colab": {}
      },
      "source": [
        "from sklearn.metrics import accuracy_score"
      ],
      "execution_count": 194,
      "outputs": []
    },
    {
      "cell_type": "code",
      "metadata": {
        "id": "Op_A6SPU06PE",
        "colab_type": "code",
        "colab": {}
      },
      "source": [
        "acc = accuracy_score(Train_Y.breed_category,Train_breed)\n",
        "acc1 = accuracy_score(Train_Y.pet_category,Train_cat)"
      ],
      "execution_count": 270,
      "outputs": []
    },
    {
      "cell_type": "code",
      "metadata": {
        "id": "u2FXbAGY1ALc",
        "colab_type": "code",
        "colab": {
          "base_uri": "https://localhost:8080/",
          "height": 34
        },
        "outputId": "b6414e7a-b7e3-4fd5-d3a7-35266a5a404b"
      },
      "source": [
        "acc"
      ],
      "execution_count": 271,
      "outputs": [
        {
          "output_type": "execute_result",
          "data": {
            "text/plain": [
              "0.9334749137244491"
            ]
          },
          "metadata": {
            "tags": []
          },
          "execution_count": 271
        }
      ]
    },
    {
      "cell_type": "code",
      "metadata": {
        "id": "gcvDdwdK1AxN",
        "colab_type": "code",
        "colab": {
          "base_uri": "https://localhost:8080/",
          "height": 34
        },
        "outputId": "ef36ffb9-45a5-413b-9c9c-0d14e85e2401"
      },
      "source": [
        "acc1"
      ],
      "execution_count": 251,
      "outputs": [
        {
          "output_type": "execute_result",
          "data": {
            "text/plain": [
              "0.8784178391292806"
            ]
          },
          "metadata": {
            "tags": []
          },
          "execution_count": 251
        }
      ]
    },
    {
      "cell_type": "code",
      "metadata": {
        "id": "n8DdbSAt1BPI",
        "colab_type": "code",
        "colab": {}
      },
      "source": [
        ""
      ],
      "execution_count": null,
      "outputs": []
    }
  ]
}