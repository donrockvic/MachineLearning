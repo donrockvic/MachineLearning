{
 "cells": [
  {
   "cell_type": "code",
   "execution_count": 1,
   "metadata": {
    "colab": {},
    "colab_type": "code",
    "id": "H7oiy55MMPHQ"
   },
   "outputs": [],
   "source": [
    "import numpy as np\n",
    "import pandas as pd"
   ]
  },
  {
   "cell_type": "code",
   "execution_count": 2,
   "metadata": {
    "colab": {},
    "colab_type": "code",
    "id": "k-QifzBtMYqs"
   },
   "outputs": [],
   "source": [
    "data = pd.read_csv('train.csv')"
   ]
  },
  {
   "cell_type": "code",
   "execution_count": 3,
   "metadata": {
    "colab": {
     "base_uri": "https://localhost:8080/",
     "height": 204
    },
    "colab_type": "code",
    "id": "g89Fo7HL1smz",
    "outputId": "ab4b3da9-7498-41da-c4f7-53c0744dc661"
   },
   "outputs": [
    {
     "data": {
      "text/html": [
       "<div>\n",
       "<style scoped>\n",
       "    .dataframe tbody tr th:only-of-type {\n",
       "        vertical-align: middle;\n",
       "    }\n",
       "\n",
       "    .dataframe tbody tr th {\n",
       "        vertical-align: top;\n",
       "    }\n",
       "\n",
       "    .dataframe thead th {\n",
       "        text-align: right;\n",
       "    }\n",
       "</style>\n",
       "<table border=\"1\" class=\"dataframe\">\n",
       "  <thead>\n",
       "    <tr style=\"text-align: right;\">\n",
       "      <th></th>\n",
       "      <th>pet_id</th>\n",
       "      <th>issue_date</th>\n",
       "      <th>listing_date</th>\n",
       "      <th>condition</th>\n",
       "      <th>color_type</th>\n",
       "      <th>length(m)</th>\n",
       "      <th>height(cm)</th>\n",
       "      <th>X1</th>\n",
       "      <th>X2</th>\n",
       "      <th>breed_category</th>\n",
       "      <th>pet_category</th>\n",
       "    </tr>\n",
       "  </thead>\n",
       "  <tbody>\n",
       "    <tr>\n",
       "      <th>0</th>\n",
       "      <td>ANSL_69903</td>\n",
       "      <td>2016-07-10 00:00:00</td>\n",
       "      <td>2016-09-21 16:25:00</td>\n",
       "      <td>2.0</td>\n",
       "      <td>Brown Tabby</td>\n",
       "      <td>0.80</td>\n",
       "      <td>7.78</td>\n",
       "      <td>13</td>\n",
       "      <td>9</td>\n",
       "      <td>0.0</td>\n",
       "      <td>1</td>\n",
       "    </tr>\n",
       "    <tr>\n",
       "      <th>1</th>\n",
       "      <td>ANSL_69902</td>\n",
       "      <td>2016-07-10 00:00:00</td>\n",
       "      <td>2016-09-21 16:25:00</td>\n",
       "      <td>2.0</td>\n",
       "      <td>Pink</td>\n",
       "      <td>0.80</td>\n",
       "      <td>7.78</td>\n",
       "      <td>13</td>\n",
       "      <td>9</td>\n",
       "      <td>0.0</td>\n",
       "      <td>1</td>\n",
       "    </tr>\n",
       "    <tr>\n",
       "      <th>2</th>\n",
       "      <td>ANSL_66892</td>\n",
       "      <td>2013-11-21 00:00:00</td>\n",
       "      <td>2018-12-27 17:47:00</td>\n",
       "      <td>1.0</td>\n",
       "      <td>White</td>\n",
       "      <td>0.72</td>\n",
       "      <td>14.19</td>\n",
       "      <td>13</td>\n",
       "      <td>9</td>\n",
       "      <td>0.0</td>\n",
       "      <td>2</td>\n",
       "    </tr>\n",
       "    <tr>\n",
       "      <th>3</th>\n",
       "      <td>ANSL_69750</td>\n",
       "      <td>2014-09-28 00:00:00</td>\n",
       "      <td>2016-10-19 08:24:00</td>\n",
       "      <td>NaN</td>\n",
       "      <td>Brown</td>\n",
       "      <td>0.15</td>\n",
       "      <td>40.90</td>\n",
       "      <td>15</td>\n",
       "      <td>4</td>\n",
       "      <td>2.0</td>\n",
       "      <td>4</td>\n",
       "    </tr>\n",
       "    <tr>\n",
       "      <th>4</th>\n",
       "      <td>ANSL_71623</td>\n",
       "      <td>2016-12-31 00:00:00</td>\n",
       "      <td>2019-01-25 18:30:00</td>\n",
       "      <td>1.0</td>\n",
       "      <td>White</td>\n",
       "      <td>0.62</td>\n",
       "      <td>17.82</td>\n",
       "      <td>0</td>\n",
       "      <td>1</td>\n",
       "      <td>0.0</td>\n",
       "      <td>2</td>\n",
       "    </tr>\n",
       "  </tbody>\n",
       "</table>\n",
       "</div>"
      ],
      "text/plain": [
       "       pet_id           issue_date         listing_date  condition  \\\n",
       "0  ANSL_69903  2016-07-10 00:00:00  2016-09-21 16:25:00        2.0   \n",
       "1  ANSL_69902  2016-07-10 00:00:00  2016-09-21 16:25:00        2.0   \n",
       "2  ANSL_66892  2013-11-21 00:00:00  2018-12-27 17:47:00        1.0   \n",
       "3  ANSL_69750  2014-09-28 00:00:00  2016-10-19 08:24:00        NaN   \n",
       "4  ANSL_71623  2016-12-31 00:00:00  2019-01-25 18:30:00        1.0   \n",
       "\n",
       "    color_type  length(m)  height(cm)  X1  X2  breed_category  pet_category  \n",
       "0  Brown Tabby       0.80        7.78  13   9             0.0             1  \n",
       "1         Pink       0.80        7.78  13   9             0.0             1  \n",
       "2        White       0.72       14.19  13   9             0.0             2  \n",
       "3        Brown       0.15       40.90  15   4             2.0             4  \n",
       "4        White       0.62       17.82   0   1             0.0             2  "
      ]
     },
     "execution_count": 3,
     "metadata": {},
     "output_type": "execute_result"
    }
   ],
   "source": [
    "data.head()"
   ]
  },
  {
   "cell_type": "code",
   "execution_count": 4,
   "metadata": {
    "colab": {
     "base_uri": "https://localhost:8080/",
     "height": 221
    },
    "colab_type": "code",
    "id": "Fk2aAlxmMck_",
    "outputId": "9af5d048-07f9-4477-f6c4-a0c62fc7316c"
   },
   "outputs": [
    {
     "data": {
      "text/plain": [
       "pet_id            0.000000\n",
       "issue_date        0.000000\n",
       "listing_date      0.000000\n",
       "condition         0.078418\n",
       "color_type        0.000000\n",
       "length(m)         0.000000\n",
       "height(cm)        0.000000\n",
       "X1                0.000000\n",
       "X2                0.000000\n",
       "breed_category    0.000000\n",
       "pet_category      0.000000\n",
       "dtype: float64"
      ]
     },
     "execution_count": 4,
     "metadata": {},
     "output_type": "execute_result"
    }
   ],
   "source": [
    "data.isnull().mean()"
   ]
  },
  {
   "cell_type": "code",
   "execution_count": 5,
   "metadata": {
    "colab": {},
    "colab_type": "code",
    "id": "Zbr9cNRmMg3e"
   },
   "outputs": [],
   "source": [
    "data_X = data.drop(labels=[\"pet_id\",\"issue_date\",\"listing_date\",\"breed_category\",\"pet_category\"],axis=1)\n",
    "data_y = data[[\"breed_category\",\"pet_category\"]]"
   ]
  },
  {
   "cell_type": "code",
   "execution_count": 6,
   "metadata": {
    "colab": {
     "base_uri": "https://localhost:8080/",
     "height": 136
    },
    "colab_type": "code",
    "id": "AYzNk7sk-umR",
    "outputId": "672aad1d-328f-49ab-f57e-d52d2a278538"
   },
   "outputs": [
    {
     "data": {
      "text/plain": [
       "condition     0.078418\n",
       "color_type    0.000000\n",
       "length(m)     0.000000\n",
       "height(cm)    0.000000\n",
       "X1            0.000000\n",
       "X2            0.000000\n",
       "dtype: float64"
      ]
     },
     "execution_count": 6,
     "metadata": {},
     "output_type": "execute_result"
    }
   ],
   "source": [
    "data_X.isnull().mean()"
   ]
  },
  {
   "cell_type": "code",
   "execution_count": 7,
   "metadata": {
    "colab": {},
    "colab_type": "code",
    "id": "Y40nr6W8-vBD"
   },
   "outputs": [],
   "source": [
    "data_X.fillna(np.float(3.0),inplace=True)"
   ]
  },
  {
   "cell_type": "code",
   "execution_count": 8,
   "metadata": {
    "colab": {
     "base_uri": "https://localhost:8080/",
     "height": 34
    },
    "colab_type": "code",
    "id": "NRMGMpSm-vLk",
    "outputId": "c27f3a42-3511-4337-d4e1-d7ef29d45b5c"
   },
   "outputs": [
    {
     "data": {
      "text/plain": [
       "array([2., 1., 3., 0.])"
      ]
     },
     "execution_count": 8,
     "metadata": {},
     "output_type": "execute_result"
    }
   ],
   "source": [
    "data_X.condition.unique()"
   ]
  },
  {
   "cell_type": "code",
   "execution_count": 9,
   "metadata": {
    "colab": {
     "base_uri": "https://localhost:8080/",
     "height": 136
    },
    "colab_type": "code",
    "id": "S7WxH1JV-vVz",
    "outputId": "e45945cb-cbf6-4deb-cb90-1defaf62cd69"
   },
   "outputs": [
    {
     "data": {
      "text/plain": [
       "condition     0.0\n",
       "color_type    0.0\n",
       "length(m)     0.0\n",
       "height(cm)    0.0\n",
       "X1            0.0\n",
       "X2            0.0\n",
       "dtype: float64"
      ]
     },
     "execution_count": 9,
     "metadata": {},
     "output_type": "execute_result"
    }
   ],
   "source": [
    "data_X.isnull().mean()"
   ]
  },
  {
   "cell_type": "code",
   "execution_count": 10,
   "metadata": {
    "colab": {
     "base_uri": "https://localhost:8080/",
     "height": 204
    },
    "colab_type": "code",
    "id": "RRItI-ZtAYXH",
    "outputId": "55f1de7b-c273-4b5c-ccac-3f4c9a784a5b"
   },
   "outputs": [
    {
     "data": {
      "text/html": [
       "<div>\n",
       "<style scoped>\n",
       "    .dataframe tbody tr th:only-of-type {\n",
       "        vertical-align: middle;\n",
       "    }\n",
       "\n",
       "    .dataframe tbody tr th {\n",
       "        vertical-align: top;\n",
       "    }\n",
       "\n",
       "    .dataframe thead th {\n",
       "        text-align: right;\n",
       "    }\n",
       "</style>\n",
       "<table border=\"1\" class=\"dataframe\">\n",
       "  <thead>\n",
       "    <tr style=\"text-align: right;\">\n",
       "      <th></th>\n",
       "      <th>condition</th>\n",
       "      <th>color_type</th>\n",
       "      <th>length(m)</th>\n",
       "      <th>height(cm)</th>\n",
       "      <th>X1</th>\n",
       "      <th>X2</th>\n",
       "    </tr>\n",
       "  </thead>\n",
       "  <tbody>\n",
       "    <tr>\n",
       "      <th>0</th>\n",
       "      <td>2.0</td>\n",
       "      <td>Brown Tabby</td>\n",
       "      <td>0.80</td>\n",
       "      <td>7.78</td>\n",
       "      <td>13</td>\n",
       "      <td>9</td>\n",
       "    </tr>\n",
       "    <tr>\n",
       "      <th>1</th>\n",
       "      <td>2.0</td>\n",
       "      <td>Pink</td>\n",
       "      <td>0.80</td>\n",
       "      <td>7.78</td>\n",
       "      <td>13</td>\n",
       "      <td>9</td>\n",
       "    </tr>\n",
       "    <tr>\n",
       "      <th>2</th>\n",
       "      <td>1.0</td>\n",
       "      <td>White</td>\n",
       "      <td>0.72</td>\n",
       "      <td>14.19</td>\n",
       "      <td>13</td>\n",
       "      <td>9</td>\n",
       "    </tr>\n",
       "    <tr>\n",
       "      <th>3</th>\n",
       "      <td>3.0</td>\n",
       "      <td>Brown</td>\n",
       "      <td>0.15</td>\n",
       "      <td>40.90</td>\n",
       "      <td>15</td>\n",
       "      <td>4</td>\n",
       "    </tr>\n",
       "    <tr>\n",
       "      <th>4</th>\n",
       "      <td>1.0</td>\n",
       "      <td>White</td>\n",
       "      <td>0.62</td>\n",
       "      <td>17.82</td>\n",
       "      <td>0</td>\n",
       "      <td>1</td>\n",
       "    </tr>\n",
       "  </tbody>\n",
       "</table>\n",
       "</div>"
      ],
      "text/plain": [
       "   condition   color_type  length(m)  height(cm)  X1  X2\n",
       "0        2.0  Brown Tabby       0.80        7.78  13   9\n",
       "1        2.0         Pink       0.80        7.78  13   9\n",
       "2        1.0        White       0.72       14.19  13   9\n",
       "3        3.0        Brown       0.15       40.90  15   4\n",
       "4        1.0        White       0.62       17.82   0   1"
      ]
     },
     "execution_count": 10,
     "metadata": {},
     "output_type": "execute_result"
    }
   ],
   "source": [
    "data_X.head()"
   ]
  },
  {
   "cell_type": "code",
   "execution_count": 11,
   "metadata": {
    "colab": {},
    "colab_type": "code",
    "id": "7EFSG5VAr4ZW"
   },
   "outputs": [],
   "source": [
    "test = pd.read_csv(\"test.csv\")"
   ]
  },
  {
   "cell_type": "code",
   "execution_count": 12,
   "metadata": {
    "colab": {
     "base_uri": "https://localhost:8080/",
     "height": 204
    },
    "colab_type": "code",
    "id": "wm5uGypesv6s",
    "outputId": "710a5eed-59e0-4c16-f4c9-8a24f6a8441d"
   },
   "outputs": [
    {
     "data": {
      "text/html": [
       "<div>\n",
       "<style scoped>\n",
       "    .dataframe tbody tr th:only-of-type {\n",
       "        vertical-align: middle;\n",
       "    }\n",
       "\n",
       "    .dataframe tbody tr th {\n",
       "        vertical-align: top;\n",
       "    }\n",
       "\n",
       "    .dataframe thead th {\n",
       "        text-align: right;\n",
       "    }\n",
       "</style>\n",
       "<table border=\"1\" class=\"dataframe\">\n",
       "  <thead>\n",
       "    <tr style=\"text-align: right;\">\n",
       "      <th></th>\n",
       "      <th>pet_id</th>\n",
       "      <th>issue_date</th>\n",
       "      <th>listing_date</th>\n",
       "      <th>condition</th>\n",
       "      <th>color_type</th>\n",
       "      <th>length(m)</th>\n",
       "      <th>height(cm)</th>\n",
       "      <th>X1</th>\n",
       "      <th>X2</th>\n",
       "    </tr>\n",
       "  </thead>\n",
       "  <tbody>\n",
       "    <tr>\n",
       "      <th>0</th>\n",
       "      <td>ANSL_75005</td>\n",
       "      <td>2005-08-17 00:00:00</td>\n",
       "      <td>2017-09-07 15:35:00</td>\n",
       "      <td>0.0</td>\n",
       "      <td>Black</td>\n",
       "      <td>0.87</td>\n",
       "      <td>42.73</td>\n",
       "      <td>0</td>\n",
       "      <td>7</td>\n",
       "    </tr>\n",
       "    <tr>\n",
       "      <th>1</th>\n",
       "      <td>ANSL_76663</td>\n",
       "      <td>2018-11-15 00:00:00</td>\n",
       "      <td>2019-05-08 17:24:00</td>\n",
       "      <td>1.0</td>\n",
       "      <td>Orange Tabby</td>\n",
       "      <td>0.06</td>\n",
       "      <td>6.71</td>\n",
       "      <td>0</td>\n",
       "      <td>1</td>\n",
       "    </tr>\n",
       "    <tr>\n",
       "      <th>2</th>\n",
       "      <td>ANSL_58259</td>\n",
       "      <td>2012-10-11 00:00:00</td>\n",
       "      <td>2018-04-02 16:51:00</td>\n",
       "      <td>1.0</td>\n",
       "      <td>Black</td>\n",
       "      <td>0.24</td>\n",
       "      <td>41.21</td>\n",
       "      <td>0</td>\n",
       "      <td>7</td>\n",
       "    </tr>\n",
       "    <tr>\n",
       "      <th>3</th>\n",
       "      <td>ANSL_67171</td>\n",
       "      <td>2015-02-13 00:00:00</td>\n",
       "      <td>2018-04-06 07:25:00</td>\n",
       "      <td>1.0</td>\n",
       "      <td>Black</td>\n",
       "      <td>0.29</td>\n",
       "      <td>8.46</td>\n",
       "      <td>7</td>\n",
       "      <td>1</td>\n",
       "    </tr>\n",
       "    <tr>\n",
       "      <th>4</th>\n",
       "      <td>ANSL_72871</td>\n",
       "      <td>2017-01-18 00:00:00</td>\n",
       "      <td>2018-04-26 13:42:00</td>\n",
       "      <td>1.0</td>\n",
       "      <td>Brown</td>\n",
       "      <td>0.71</td>\n",
       "      <td>30.92</td>\n",
       "      <td>0</td>\n",
       "      <td>7</td>\n",
       "    </tr>\n",
       "  </tbody>\n",
       "</table>\n",
       "</div>"
      ],
      "text/plain": [
       "       pet_id           issue_date         listing_date  condition  \\\n",
       "0  ANSL_75005  2005-08-17 00:00:00  2017-09-07 15:35:00        0.0   \n",
       "1  ANSL_76663  2018-11-15 00:00:00  2019-05-08 17:24:00        1.0   \n",
       "2  ANSL_58259  2012-10-11 00:00:00  2018-04-02 16:51:00        1.0   \n",
       "3  ANSL_67171  2015-02-13 00:00:00  2018-04-06 07:25:00        1.0   \n",
       "4  ANSL_72871  2017-01-18 00:00:00  2018-04-26 13:42:00        1.0   \n",
       "\n",
       "     color_type  length(m)  height(cm)  X1  X2  \n",
       "0         Black       0.87       42.73   0   7  \n",
       "1  Orange Tabby       0.06        6.71   0   1  \n",
       "2         Black       0.24       41.21   0   7  \n",
       "3         Black       0.29        8.46   7   1  \n",
       "4         Brown       0.71       30.92   0   7  "
      ]
     },
     "execution_count": 12,
     "metadata": {},
     "output_type": "execute_result"
    }
   ],
   "source": [
    "test.head()"
   ]
  },
  {
   "cell_type": "code",
   "execution_count": 13,
   "metadata": {
    "colab": {},
    "colab_type": "code",
    "id": "oCiiCitUsxKh"
   },
   "outputs": [],
   "source": [
    "test1 = test.drop(labels=[\"pet_id\",\"issue_date\",\"listing_date\"], axis=1)"
   ]
  },
  {
   "cell_type": "code",
   "execution_count": 14,
   "metadata": {
    "colab": {
     "base_uri": "https://localhost:8080/",
     "height": 204
    },
    "colab_type": "code",
    "id": "WYPbPa0Ts77g",
    "outputId": "3079f807-7176-4d6f-cee8-3fcb9f5856e9"
   },
   "outputs": [
    {
     "data": {
      "text/html": [
       "<div>\n",
       "<style scoped>\n",
       "    .dataframe tbody tr th:only-of-type {\n",
       "        vertical-align: middle;\n",
       "    }\n",
       "\n",
       "    .dataframe tbody tr th {\n",
       "        vertical-align: top;\n",
       "    }\n",
       "\n",
       "    .dataframe thead th {\n",
       "        text-align: right;\n",
       "    }\n",
       "</style>\n",
       "<table border=\"1\" class=\"dataframe\">\n",
       "  <thead>\n",
       "    <tr style=\"text-align: right;\">\n",
       "      <th></th>\n",
       "      <th>condition</th>\n",
       "      <th>color_type</th>\n",
       "      <th>length(m)</th>\n",
       "      <th>height(cm)</th>\n",
       "      <th>X1</th>\n",
       "      <th>X2</th>\n",
       "    </tr>\n",
       "  </thead>\n",
       "  <tbody>\n",
       "    <tr>\n",
       "      <th>0</th>\n",
       "      <td>0.0</td>\n",
       "      <td>Black</td>\n",
       "      <td>0.87</td>\n",
       "      <td>42.73</td>\n",
       "      <td>0</td>\n",
       "      <td>7</td>\n",
       "    </tr>\n",
       "    <tr>\n",
       "      <th>1</th>\n",
       "      <td>1.0</td>\n",
       "      <td>Orange Tabby</td>\n",
       "      <td>0.06</td>\n",
       "      <td>6.71</td>\n",
       "      <td>0</td>\n",
       "      <td>1</td>\n",
       "    </tr>\n",
       "    <tr>\n",
       "      <th>2</th>\n",
       "      <td>1.0</td>\n",
       "      <td>Black</td>\n",
       "      <td>0.24</td>\n",
       "      <td>41.21</td>\n",
       "      <td>0</td>\n",
       "      <td>7</td>\n",
       "    </tr>\n",
       "    <tr>\n",
       "      <th>3</th>\n",
       "      <td>1.0</td>\n",
       "      <td>Black</td>\n",
       "      <td>0.29</td>\n",
       "      <td>8.46</td>\n",
       "      <td>7</td>\n",
       "      <td>1</td>\n",
       "    </tr>\n",
       "    <tr>\n",
       "      <th>4</th>\n",
       "      <td>1.0</td>\n",
       "      <td>Brown</td>\n",
       "      <td>0.71</td>\n",
       "      <td>30.92</td>\n",
       "      <td>0</td>\n",
       "      <td>7</td>\n",
       "    </tr>\n",
       "  </tbody>\n",
       "</table>\n",
       "</div>"
      ],
      "text/plain": [
       "   condition    color_type  length(m)  height(cm)  X1  X2\n",
       "0        0.0         Black       0.87       42.73   0   7\n",
       "1        1.0  Orange Tabby       0.06        6.71   0   1\n",
       "2        1.0         Black       0.24       41.21   0   7\n",
       "3        1.0         Black       0.29        8.46   7   1\n",
       "4        1.0         Brown       0.71       30.92   0   7"
      ]
     },
     "execution_count": 14,
     "metadata": {},
     "output_type": "execute_result"
    }
   ],
   "source": [
    "test1.head()"
   ]
  },
  {
   "cell_type": "code",
   "execution_count": 15,
   "metadata": {
    "colab": {
     "base_uri": "https://localhost:8080/",
     "height": 136
    },
    "colab_type": "code",
    "id": "pGjgAwTKtAFw",
    "outputId": "e82af724-3050-46d5-bad8-2ddbae48d3ab"
   },
   "outputs": [
    {
     "data": {
      "text/plain": [
       "condition     0.076685\n",
       "color_type    0.000000\n",
       "length(m)     0.000000\n",
       "height(cm)    0.000000\n",
       "X1            0.000000\n",
       "X2            0.000000\n",
       "dtype: float64"
      ]
     },
     "execution_count": 15,
     "metadata": {},
     "output_type": "execute_result"
    }
   ],
   "source": [
    "test1.isnull().mean()"
   ]
  },
  {
   "cell_type": "code",
   "execution_count": 16,
   "metadata": {
    "colab": {},
    "colab_type": "code",
    "id": "lE0MXSdmtCjB"
   },
   "outputs": [],
   "source": [
    "test1.fillna(np.float(3.0),inplace=True)"
   ]
  },
  {
   "cell_type": "code",
   "execution_count": 17,
   "metadata": {
    "colab": {
     "base_uri": "https://localhost:8080/",
     "height": 136
    },
    "colab_type": "code",
    "id": "_qTOxvrdtNGY",
    "outputId": "31e53e52-4c4c-4b18-a7b6-3218ad3dfb14"
   },
   "outputs": [
    {
     "data": {
      "text/plain": [
       "condition     0.0\n",
       "color_type    0.0\n",
       "length(m)     0.0\n",
       "height(cm)    0.0\n",
       "X1            0.0\n",
       "X2            0.0\n",
       "dtype: float64"
      ]
     },
     "execution_count": 17,
     "metadata": {},
     "output_type": "execute_result"
    }
   ],
   "source": [
    "test1.isnull().mean()"
   ]
  },
  {
   "cell_type": "code",
   "execution_count": 18,
   "metadata": {
    "colab": {
     "base_uri": "https://localhost:8080/",
     "height": 204
    },
    "colab_type": "code",
    "id": "1BW6lBhCtur0",
    "outputId": "6a3698a3-4a12-46fd-98df-a4826b740de4"
   },
   "outputs": [
    {
     "name": "stdout",
     "output_type": "stream",
     "text": [
      "[ColumnTransformer] ....... (1 of 2) Processing encoder, total=   0.0s\n",
      "[ColumnTransformer] ..... (2 of 2) Processing remainder, total=   0.0s\n"
     ]
    },
    {
     "data": {
      "text/plain": [
       "ColumnTransformer(n_jobs=None, remainder='passthrough', sparse_threshold=0.3,\n",
       "                  transformer_weights=None,\n",
       "                  transformers=[('encoder',\n",
       "                                 OneHotEncoder(categories='auto', drop=None,\n",
       "                                               dtype=<class 'numpy.float64'>,\n",
       "                                               handle_unknown='error',\n",
       "                                               sparse=False),\n",
       "                                 [1])],\n",
       "                  verbose=1)"
      ]
     },
     "execution_count": 18,
     "metadata": {},
     "output_type": "execute_result"
    }
   ],
   "source": [
    " from sklearn.compose import ColumnTransformer\n",
    " from sklearn.preprocessing import OneHotEncoder\n",
    " ct2 = ColumnTransformer(transformers = [('encoder',OneHotEncoder(sparse=False), [1])], remainder= 'passthrough',verbose=1)\n",
    " ct2.fit(data_X)"
   ]
  },
  {
   "cell_type": "code",
   "execution_count": 19,
   "metadata": {
    "colab": {},
    "colab_type": "code",
    "id": "ghdfwJ0Au7N1"
   },
   "outputs": [],
   "source": [
    " from sklearn.ensemble import GradientBoostingClassifier"
   ]
  },
  {
   "cell_type": "code",
   "execution_count": 61,
   "metadata": {
    "colab": {
     "base_uri": "https://localhost:8080/",
     "height": 1000
    },
    "colab_type": "code",
    "id": "wFKt0ZzEvlxU",
    "outputId": "3008aa0e-18ab-484a-f5cb-9c11f0586fd8"
   },
   "outputs": [
    {
     "name": "stdout",
     "output_type": "stream",
     "text": [
      "      Iter       Train Loss   Remaining Time \n",
      "         1        6930.2286           24.04s\n",
      "         2        4840.5647           23.61s\n",
      "         3        3873.9105           26.24s\n",
      "         4        3416.1957           29.36s\n",
      "         5        3133.5913           31.45s\n",
      "         6        3023.1182           33.81s\n",
      "         7        2906.4885           35.43s\n",
      "         8        2866.0117           36.13s\n",
      "         9        2844.7074           39.44s\n",
      "        10        2829.2058           38.45s\n",
      "        11        2807.8347           39.86s\n",
      "        12        2793.7248           39.70s\n",
      "        13        2783.8286           39.24s\n",
      "        14        2755.5362           38.59s\n",
      "        15        2743.2728           38.00s\n",
      "        16        2736.8219           37.30s\n",
      "        17        2729.2444           38.01s\n",
      "        18        2720.2899           37.41s\n",
      "        19        2713.7218           36.52s\n",
      "        20        2704.3545           35.73s\n",
      "        21        2698.3377           35.15s\n",
      "        22        2693.1376           34.40s\n",
      "        23        2690.8826           34.03s\n",
      "        24        2688.6746           33.54s\n",
      "        25        2679.0922           33.08s\n",
      "        26        2674.6504           32.86s\n",
      "        27        2670.2089           32.63s\n",
      "        28        2660.7767           32.42s\n",
      "        29        2657.8994           31.97s\n",
      "        30        2650.3501           31.51s\n",
      "        31        2643.7953           31.30s\n",
      "        32        2636.5159           31.08s\n",
      "        33        2632.0259           30.89s\n",
      "        34        2622.1704           30.63s\n",
      "        35        2613.6776           30.38s\n",
      "        36        2607.7072           30.17s\n",
      "        37        2602.2244           29.89s\n",
      "        38        2600.0536           29.44s\n",
      "        39        2595.1694           28.95s\n",
      "        40        2588.9290           28.43s\n",
      "        41        2584.2083           27.92s\n",
      "        42        2579.4556           27.47s\n",
      "        43        2575.7875           27.10s\n",
      "        44        2565.8084           26.73s\n",
      "        45        2556.9244           26.34s\n",
      "        46        2551.6987           25.98s\n",
      "        47        2545.5752           25.56s\n",
      "        48        2540.7961           25.24s\n",
      "        49        2539.0066           24.89s\n",
      "        50        2531.6002           24.63s\n",
      "        51        2525.1152           24.48s\n",
      "        52        2521.4341           24.22s\n",
      "        53        2520.3137           23.94s\n",
      "        54        2514.0596           23.62s\n",
      "        55        2506.8151           23.36s\n",
      "        56        2501.3984           23.05s\n",
      "        57        2488.8421           22.79s\n",
      "        58        2483.3542           22.52s\n",
      "        59        2474.9362           22.23s\n",
      "        60        2471.7869           21.92s\n",
      "        61        2466.1593           21.65s\n",
      "        62        2459.4522           21.37s\n",
      "        63        2451.7442           21.16s\n",
      "        64        2446.8984           21.05s\n",
      "        65        2445.4288           21.00s\n",
      "        66        2439.4915           20.79s\n",
      "        67        2430.2873           20.54s\n",
      "        68        2421.7599           20.29s\n",
      "        69        2420.7194           20.16s\n",
      "        70        2420.0280           20.04s\n",
      "        71        2419.1364           19.89s\n",
      "        72        2412.8008           19.74s\n",
      "        73        2407.5376           19.58s\n",
      "        74        2402.7792           19.41s\n",
      "        75        2395.4442           19.23s\n",
      "        76        2390.8129           18.98s\n",
      "        77        2385.5468           18.73s\n",
      "        78        2384.0812           18.60s\n",
      "        79        2374.9481           18.33s\n",
      "        80        2369.3212           18.05s\n",
      "        81        2362.0432           17.81s\n",
      "        82        2359.0877           17.57s\n",
      "        83        2353.2759           17.30s\n",
      "        84        2351.6691           17.05s\n",
      "        85        2349.1009           16.81s\n",
      "        86        2345.5854           16.63s\n",
      "        87        2338.7121           16.39s\n",
      "        88        2328.9734           16.16s\n",
      "        89        2328.1610           15.92s\n",
      "        90        2322.1976           15.69s\n",
      "        91        2315.1906           15.45s\n",
      "        92        2311.2407           15.23s\n",
      "        93        2308.4162           15.01s\n",
      "        94        2304.8232           14.79s\n",
      "        95        2300.9266           14.55s\n",
      "        96        2297.4433           14.32s\n",
      "        97        2293.3935           14.15s\n",
      "        98        2286.5102           13.98s\n",
      "        99        2282.8393           13.77s\n",
      "       100        2278.0980           13.54s\n",
      "       101        2273.2491           13.32s\n",
      "       102        2271.8219           13.17s\n",
      "       103        2266.4931           12.98s\n",
      "       104        2259.7332           12.78s\n",
      "       105        2257.1357           12.58s\n",
      "       106        2248.9164           12.37s\n",
      "       107        2243.2934           12.19s\n",
      "       108        2242.0603           12.04s\n",
      "       109        2239.2518           11.84s\n",
      "       110        2236.5600           11.65s\n",
      "       111        2233.0389           11.44s\n",
      "       112        2228.4984           11.24s\n",
      "       113        2221.6152           11.03s\n",
      "       114        2213.3615           10.84s\n",
      "       115        2209.4005           10.64s\n",
      "       116        2206.1480           10.45s\n",
      "       117        2198.0746           10.27s\n",
      "       118        2197.4204           10.08s\n",
      "       119        2192.0599            9.90s\n",
      "       120        2191.5092            9.71s\n",
      "       121        2186.1532            9.54s\n",
      "       122        2183.7702            9.37s\n",
      "       123        2182.0547            9.20s\n",
      "       124        2180.0120            9.04s\n",
      "       125        2175.8428            8.90s\n",
      "       126        2172.0172            8.74s\n",
      "       127        2167.1066            8.55s\n",
      "       128        2159.8149            8.37s\n",
      "       129        2156.7343            8.19s\n",
      "       130        2149.6342            8.01s\n",
      "       131        2146.0775            7.83s\n",
      "       132        2141.2513            7.65s\n",
      "       133        2136.3650            7.51s\n",
      "       134        2132.4267            7.35s\n",
      "       135        2128.9992            7.20s\n",
      "       136        2124.2189            7.03s\n",
      "       137        2120.0260            6.86s\n",
      "       138        2117.2267            6.68s\n",
      "       139        2114.1387            6.51s\n",
      "       140        2110.0323            6.34s\n",
      "       141        2108.4792            6.18s\n",
      "       142        2105.2193            6.00s\n",
      "       143        2099.2837            5.83s\n",
      "       144        2095.1606            5.67s\n",
      "       145        2091.8463            5.50s\n",
      "       146        2088.3717            5.33s\n",
      "       147        2086.5109            5.16s\n",
      "       148        2079.2208            4.99s\n",
      "       149        2077.4649            4.82s\n",
      "       150        2076.6655            4.66s\n",
      "       151        2071.4143            4.50s\n",
      "       152        2068.6383            4.33s\n",
      "       153        2064.1221            4.17s\n",
      "       154        2060.1020            4.01s\n",
      "       155        2056.9420            3.85s\n",
      "       156        2050.0226            3.69s\n",
      "       157        2045.5284            3.53s\n",
      "       158        2041.4058            3.38s\n",
      "       159        2037.9873            3.22s\n",
      "       160        2034.4558            3.06s\n",
      "       161        2034.0540            2.90s\n",
      "       162        2030.5547            2.75s\n",
      "       163        2026.9891            2.60s\n",
      "       164        2021.6717            2.45s\n",
      "       165        2020.5823            2.29s\n",
      "       166        2014.2985            2.14s\n",
      "       167        2009.0906            1.99s\n",
      "       168        2002.6403            1.84s\n",
      "       169        1999.2671            1.69s\n",
      "       170        1996.7808            1.54s\n",
      "       171        1992.7311            1.39s\n",
      "       172        1988.8783            1.23s\n",
      "       173        1984.9815            1.08s\n",
      "       174        1981.1999            0.92s\n",
      "       175        1977.6087            0.77s\n",
      "       176        1972.7765            0.61s\n",
      "       177        1967.6069            0.46s\n",
      "       178        1965.4670            0.30s\n",
      "       179        1960.7738            0.15s\n",
      "       180        1957.7287            0.00s\n"
     ]
    },
    {
     "data": {
      "text/plain": [
       "GradientBoostingClassifier(ccp_alpha=0.0, criterion='friedman_mse', init=None,\n",
       "                           learning_rate=0.5, loss='deviance', max_depth=3,\n",
       "                           max_features=None, max_leaf_nodes=None,\n",
       "                           min_impurity_decrease=0.0, min_impurity_split=None,\n",
       "                           min_samples_leaf=1, min_samples_split=2,\n",
       "                           min_weight_fraction_leaf=0.0, n_estimators=180,\n",
       "                           n_iter_no_change=None, presort='deprecated',\n",
       "                           random_state=None, subsample=1.0, tol=0.0001,\n",
       "                           validation_fraction=0.1, verbose=2,\n",
       "                           warm_start=False)"
      ]
     },
     "execution_count": 61,
     "metadata": {},
     "output_type": "execute_result"
    }
   ],
   "source": [
    "classifier3 =  GradientBoostingClassifier(n_estimators=180,verbose=2,learning_rate=0.5)\n",
    "classifier3.fit(ct2.transform(data_X),data_y.breed_category)"
   ]
  },
  {
   "cell_type": "code",
   "execution_count": 62,
   "metadata": {
    "colab": {
     "base_uri": "https://localhost:8080/",
     "height": 1000
    },
    "colab_type": "code",
    "id": "Vl-HG5aXy5oK",
    "outputId": "885cc050-d334-4271-90c8-882199050c38"
   },
   "outputs": [
    {
     "name": "stdout",
     "output_type": "stream",
     "text": [
      "      Iter       Train Loss   Remaining Time \n",
      "         1       14661.3160            3.08m\n",
      "         2       13787.1512            2.97m\n",
      "         3       13110.6969            2.99m\n",
      "         4       12552.4012            2.67m\n",
      "         5       12091.9943            2.52m\n",
      "         6       11692.4084            2.48m\n",
      "         7       11340.1817            2.52m\n",
      "         8       11023.3155            2.60m\n",
      "         9       10747.9988            2.63m\n",
      "        10       10489.0045            2.60m\n",
      "        11       10262.3961            2.56m\n",
      "        12       10070.0721            2.48m\n",
      "        13        9890.9449            2.55m\n",
      "        14        9713.8214            2.61m\n",
      "        15        9553.0535            2.67m\n",
      "        16        9996.5398            2.71m\n",
      "        17        9263.7924            2.73m\n",
      "        18        9113.9141            2.79m\n",
      "        19        9010.6909            2.81m\n",
      "        20        8876.9558            2.82m\n",
      "        21        8764.1883            2.84m\n",
      "        22        8678.3661            2.78m\n",
      "        23        8573.2914            2.72m\n",
      "        24        8484.1093            2.74m\n",
      "        25        8384.5083            2.75m\n",
      "        26        8306.6502            2.75m\n",
      "        27        8229.4686            2.70m\n",
      "        28        8145.7328            2.65m\n",
      "        29        8074.3013            2.65m\n",
      "        30        8000.7593            2.65m\n",
      "        31        7935.5557            2.66m\n",
      "        32        7873.4540            2.67m\n",
      "        33        7807.7478            2.64m\n",
      "        34        7760.3162            2.63m\n",
      "        35        7709.8152            2.60m\n",
      "        36        7651.0312            2.59m\n",
      "        37        7593.6553            2.56m\n",
      "        38        7559.5152            2.54m\n",
      "        39        7522.0300            2.52m\n",
      "        40        7462.8184            2.49m\n",
      "        41        7408.3220            2.46m\n",
      "        42        7375.7211            2.44m\n",
      "        43        7339.4802            2.42m\n",
      "        44        7294.4584            2.39m\n",
      "        45        7239.9168            2.37m\n",
      "        46        7215.1252            2.35m\n",
      "        47        7169.7428            2.36m\n",
      "        48        7131.3158            2.34m\n",
      "        49        7099.8761            2.32m\n",
      "        50        7058.6854            2.31m\n",
      "        51        7030.1413            2.29m\n",
      "        52        7007.4651            2.27m\n",
      "        53        6969.3202            2.26m\n",
      "        54        6939.1324            2.25m\n",
      "        55        6913.8944            2.24m\n",
      "        56        6874.5661            2.22m\n",
      "        57        6840.1336            2.20m\n",
      "        58        6808.2867            2.19m\n",
      "        59        6780.1416            2.18m\n",
      "        60        6758.0168            2.17m\n",
      "        61        6738.4304            2.16m\n",
      "        62        6707.8432            2.17m\n",
      "        63        6678.1805            2.19m\n",
      "        64        6658.1254            2.21m\n",
      "        65        6636.1615            2.22m\n",
      "        66        6613.7440            2.22m\n",
      "        67        6599.3068            2.23m\n",
      "        68        6567.9360            2.24m\n",
      "        69        6546.0578            2.23m\n",
      "        70        6530.5014            2.22m\n",
      "        71        6502.3624            2.21m\n",
      "        72        6486.3153            2.20m\n",
      "        73        6471.9286            2.19m\n",
      "        74        6451.6101            2.18m\n",
      "        75        6418.3956            2.16m\n",
      "        76        6402.1756            2.15m\n",
      "        77        6385.6432            2.13m\n",
      "        78        6361.9244            2.12m\n",
      "        79        6346.2071            2.11m\n",
      "        80        6333.2713            2.09m\n",
      "        81        6321.6971            2.08m\n",
      "        82        6303.8399            2.07m\n",
      "        83        6278.7405            2.06m\n",
      "        84        6254.3497            2.05m\n",
      "        85        6242.0521            2.04m\n",
      "        86        6223.7508            2.03m\n",
      "        87        6250.7680            2.01m\n",
      "        88        6220.1015            2.00m\n",
      "        89        6192.4103            1.99m\n",
      "        90        6170.9480            1.98m\n",
      "        91        6154.8676            1.97m\n",
      "        92        6135.6705            1.96m\n",
      "        93        6124.4816            1.95m\n",
      "        94        6110.6201            1.94m\n",
      "        95        6098.6892            1.93m\n",
      "        96        6081.2505            1.92m\n",
      "        97        6068.3587            1.90m\n",
      "        98        6049.2468            1.89m\n",
      "        99        6038.1530            1.88m\n",
      "       100        6020.8118            1.88m\n",
      "       101        6007.2433            1.88m\n",
      "       102        5987.5157            1.88m\n",
      "       103        5979.0759            1.87m\n",
      "       104        5969.6972            1.87m\n",
      "       105        5959.8773            1.86m\n",
      "       106        5950.9013            1.85m\n",
      "       107        5939.6324            1.85m\n",
      "       108        5930.9998            1.86m\n",
      "       109        5914.5921            1.86m\n",
      "       110        5904.8033            1.86m\n",
      "       111        5894.5598            1.85m\n",
      "       112        5885.5226            1.85m\n",
      "       113        5871.4085            1.85m\n",
      "       114        5855.2300            1.85m\n",
      "       115        5848.3517            1.84m\n",
      "       116        5838.0960            1.83m\n",
      "       117        5827.0293            1.82m\n",
      "       118        5816.1440            1.81m\n",
      "       119        5810.4927            1.81m\n",
      "       120        5801.0669            1.81m\n",
      "       121        5790.8876            1.81m\n",
      "       122        5779.2782            1.80m\n",
      "       123        5770.7706            1.79m\n",
      "       124        5757.6351            1.79m\n",
      "       125        5750.7019            1.78m\n",
      "       126        5741.5065            1.77m\n",
      "       127        5731.9972            1.76m\n",
      "       128        5725.0142            1.76m\n",
      "       129        5720.4995            1.76m\n",
      "       130        5708.0704            1.75m\n",
      "       131        5694.6876            1.75m\n",
      "       132        5686.0717            1.74m\n",
      "       133        5678.1560            1.73m\n",
      "       134        5668.0170            1.72m\n",
      "       135        5661.0906            1.72m\n",
      "       136        5655.5126            1.72m\n",
      "       137        5651.7838            1.72m\n",
      "       138        5644.2888            1.71m\n",
      "       139        5630.9024            1.70m\n",
      "       140        5623.7386            1.69m\n",
      "       141        5617.4966            1.68m\n",
      "       142        5609.4628            1.68m\n",
      "       143        5603.8970            1.68m\n",
      "       144        5596.4180            1.68m\n",
      "       145        5588.5773            1.67m\n",
      "       146        5574.7651            1.66m\n",
      "       147        5567.3154            1.66m\n",
      "       148        5558.2026            1.65m\n",
      "       149        5553.8931            1.64m\n",
      "       150        5544.8246            1.64m\n",
      "       151        5538.3707            1.64m\n",
      "       152        5531.2102            1.63m\n",
      "       153        5519.0148            1.63m\n",
      "       154        5512.6466            1.62m\n",
      "       155        5505.8942            1.61m\n",
      "       156        5499.4326            1.60m\n",
      "       157        5496.1363            1.60m\n",
      "       158        5487.1845            1.59m\n",
      "       159        5481.5533            1.59m\n",
      "       160        5471.9214            1.59m\n",
      "       161        5463.5100            1.58m\n",
      "       162        5458.4773            1.57m\n",
      "       163        5452.2147            1.57m\n",
      "       164        5446.5495            1.56m\n",
      "       165        5440.8108            1.55m\n",
      "       166        5435.0338            1.55m\n",
      "       167        5427.1094            1.55m\n",
      "       168        5422.9760            1.55m\n",
      "       169        5414.5441            1.54m\n",
      "       170        5408.7877            1.54m\n",
      "       171        5404.2149            1.53m\n",
      "       172        5398.6196            1.52m\n",
      "       173        5392.5710            1.52m\n",
      "       174        5384.5349            1.52m\n",
      "       175        5378.8899            1.52m\n",
      "       176        5373.9076            1.51m\n",
      "       177        5368.5694            1.50m\n",
      "       178        5364.3755            1.50m\n",
      "       179        5356.9154            1.49m\n",
      "       180        5350.5556            1.49m\n",
      "       181        5347.6816            1.49m\n",
      "       182        5342.5210            1.48m\n"
     ]
    },
    {
     "name": "stdout",
     "output_type": "stream",
     "text": [
      "       183        5335.6555            1.48m\n",
      "       184        5332.0503            1.47m\n",
      "       185        5325.9983            1.46m\n",
      "       186        5322.0759            1.46m\n",
      "       187        5315.1132            1.45m\n",
      "       188        5310.0722            1.45m\n",
      "       189        5304.7843            1.45m\n",
      "       190        5300.8199            1.44m\n",
      "       191        5294.0036            1.44m\n",
      "       192        5289.0321            1.43m\n",
      "       193        5286.0987            1.42m\n",
      "       194        5283.1317            1.42m\n",
      "       195        5277.4825            1.41m\n",
      "       196        5273.7286            1.41m\n",
      "       197        5269.3513            1.41m\n",
      "       198        5264.1740            1.40m\n",
      "       199        5259.8014            1.40m\n",
      "       200        5253.6862            1.39m\n",
      "       201        5247.9139            1.38m\n",
      "       202        5244.9432            1.38m\n",
      "       203        5241.9674            1.38m\n",
      "       204        5235.8876            1.37m\n",
      "       205        5231.8839            1.37m\n",
      "       206        5228.0176            1.36m\n",
      "       207        5222.6362            1.36m\n",
      "       208        5215.0464            1.35m\n",
      "       209        5212.5932            1.34m\n",
      "       210        5209.3379            1.34m\n",
      "       211        5206.5613            1.34m\n",
      "       212        5203.1412            1.33m\n",
      "       213        5198.1735            1.33m\n",
      "       214        5191.8871            1.32m\n",
      "       215        5186.9095            1.32m\n",
      "       216        5180.6999            1.32m\n",
      "       217        5175.5157            1.31m\n",
      "       218        5171.5854            1.31m\n",
      "       219        5164.4523            1.31m\n",
      "       220        5161.6768            1.30m\n",
      "       221        5158.9958            1.29m\n",
      "       222        5155.7252            1.29m\n",
      "       223        5150.1487            1.28m\n",
      "       224        5145.9578            1.28m\n",
      "       225        5141.6864            1.28m\n",
      "       226        5138.3995            1.27m\n",
      "       227        5135.9945            1.27m\n",
      "       228        5131.2429            1.26m\n",
      "       229        5125.3315            1.26m\n",
      "       230        5123.1021            1.26m\n",
      "       231        5121.2075            1.25m\n",
      "       232        5117.5375            1.25m\n",
      "       233        5111.9458            1.25m\n",
      "       234        5107.8701            1.24m\n",
      "       235        5104.9018            1.23m\n",
      "       236        5101.4774            1.23m\n",
      "       237        5094.4682            1.23m\n",
      "       238        5089.0670            1.22m\n",
      "       239        5086.1940            1.22m\n",
      "       240        5082.0563            1.22m\n",
      "       241        5079.6958            1.21m\n",
      "       242        5075.0040            1.20m\n",
      "       243        5072.8823            1.20m\n",
      "       244        5069.9181            1.20m\n",
      "       245        5066.4827            1.20m\n",
      "       246        5062.8257            1.19m\n",
      "       247        5059.3002            1.18m\n",
      "       248        5054.7131            1.18m\n",
      "       249        5051.0229            1.18m\n",
      "       250        5047.1429            1.18m\n",
      "       251        5042.9684            1.18m\n",
      "       252        5040.4705            1.17m\n",
      "       253        5033.9068            1.17m\n",
      "       254        5028.2007            1.17m\n",
      "       255        5024.3396            1.16m\n",
      "       256        5021.7102            1.16m\n",
      "       257        5018.6534            1.16m\n",
      "       258        5015.8786            1.15m\n",
      "       259        5011.6240            1.15m\n",
      "       260        5008.5938            1.14m\n",
      "       261        5005.1596            1.14m\n",
      "       262        5001.6982            1.13m\n",
      "       263        4998.6354            1.12m\n",
      "       264        4995.4432            1.12m\n",
      "       265        4991.2217            1.12m\n",
      "       266        4989.1165            1.11m\n",
      "       267        4986.5720            1.11m\n",
      "       268        4982.9765            1.10m\n",
      "       269        4980.2386            1.09m\n",
      "       270        4978.8609            1.09m\n",
      "       271        4976.7149            1.09m\n",
      "       272        4974.0023            1.08m\n",
      "       273        4971.9811            1.08m\n",
      "       274        4966.9786            1.07m\n",
      "       275        4964.2632            1.07m\n",
      "       276        4961.3307            1.06m\n",
      "       277        4956.7888            1.06m\n",
      "       278        4954.9158            1.06m\n",
      "       279        4951.7634            1.05m\n",
      "       280        4948.6900            1.05m\n",
      "       281        4943.9332            1.04m\n",
      "       282        4941.4063            1.04m\n",
      "       283        4939.4221            1.03m\n",
      "       284        4936.7457            1.03m\n",
      "       285        4934.2441            1.02m\n",
      "       286        4932.2296            1.02m\n",
      "       287        4929.5357            1.01m\n",
      "       288        4923.8982            1.01m\n",
      "       289        4920.8357            1.00m\n",
      "       290        4918.2667           59.72s\n",
      "       291        4914.5688           59.40s\n",
      "       292        4911.4398           59.19s\n",
      "       293        4908.4178           58.95s\n",
      "       294        4905.2606           58.74s\n",
      "       295        4903.0437           58.42s\n",
      "       296        4901.1345           58.13s\n",
      "       297        4898.8008           57.83s\n",
      "       298        4895.1704           57.52s\n",
      "       299        4892.1682           57.26s\n",
      "       300        4890.1188           57.03s\n",
      "       301        4887.0976           56.73s\n",
      "       302        4885.0130           56.47s\n",
      "       303        4882.7634           56.25s\n",
      "       304        4880.7330           56.01s\n",
      "       305        4879.2164           55.77s\n",
      "       306        4876.5564           55.48s\n",
      "       307        4874.5772           55.17s\n",
      "       308        4871.9659           54.87s\n",
      "       309        4869.3053           54.65s\n",
      "       310        4866.9297           54.38s\n",
      "       311        4864.6796           54.08s\n",
      "       312        4863.2791           53.78s\n",
      "       313        4859.1126           53.53s\n",
      "       314        4853.8351           53.27s\n",
      "       315        4852.1244           52.94s\n",
      "       316        4850.4643           52.63s\n",
      "       317        4847.8298           52.31s\n",
      "       318        4843.8233           51.99s\n",
      "       319        4840.5665           51.68s\n",
      "       320        4838.1634           51.37s\n",
      "       321        4836.2855           51.03s\n",
      "       322        4831.7494           50.70s\n",
      "       323        4828.9978           50.41s\n",
      "       324        4827.9017           50.08s\n",
      "       325        4826.6523           49.83s\n",
      "       326        4824.1100           49.53s\n",
      "       327        4822.7180           49.24s\n",
      "       328        4820.8486           49.04s\n",
      "       329        4819.1145           48.80s\n",
      "       330        4816.8886           48.55s\n",
      "       331        4813.6986           48.28s\n",
      "       332        4811.9528           47.95s\n",
      "       333        4809.0108           47.68s\n",
      "       334        4806.7197           47.41s\n",
      "       335        4803.2954           47.14s\n",
      "       336        4801.2766           46.87s\n",
      "       337        4800.1124           46.61s\n",
      "       338        4799.0273           46.32s\n",
      "       339        4798.0501           46.02s\n",
      "       340        4796.1742           45.76s\n",
      "       341        4794.1928           45.50s\n",
      "       342        4791.9731           45.24s\n",
      "       343        4789.3701           44.97s\n",
      "       344        4786.4747           44.69s\n",
      "       345        4783.5944           44.37s\n",
      "       346        4782.5402           44.10s\n",
      "       347        4779.8709           43.87s\n",
      "       348        4778.3507           43.61s\n",
      "       349        4775.5468           43.34s\n",
      "       350        4772.9327           43.06s\n",
      "       351        4769.5175           42.74s\n",
      "       352        4765.7259           42.45s\n",
      "       353        4763.6346           42.18s\n",
      "       354        4761.9016           41.90s\n",
      "       355        4759.7200           41.63s\n",
      "       356        4757.5384           41.36s\n",
      "       357        4755.2671           41.08s\n",
      "       358        4751.4140           40.75s\n",
      "       359        4748.2276           40.47s\n",
      "       360        4746.8968           40.20s\n",
      "       361        4742.0211           39.93s\n",
      "       362        4740.0292           39.66s\n",
      "       363        4738.1800           39.39s\n",
      "       364        4736.8380           39.10s\n",
      "       365        4735.2946           38.79s\n"
     ]
    },
    {
     "name": "stdout",
     "output_type": "stream",
     "text": [
      "       366        4732.7787           38.52s\n",
      "       367        4730.1576           38.25s\n",
      "       368        4728.0385           37.98s\n",
      "       369        4726.6462           37.71s\n",
      "       370        4724.7341           37.44s\n",
      "       371        4722.5644           37.13s\n",
      "       372        4721.1005           36.87s\n",
      "       373        4718.8376           36.64s\n",
      "       374        4716.7259           36.38s\n",
      "       375        4714.1681           36.10s\n",
      "       376        4712.8962           35.88s\n",
      "       377        4710.1729           35.64s\n",
      "       378        4708.4858           35.36s\n",
      "       379        4705.1910           35.07s\n",
      "       380        4702.6352           34.80s\n",
      "       381        4701.1525           34.56s\n",
      "       382        4698.7447           34.26s\n",
      "       383        4696.8490           33.99s\n",
      "       384        4695.2887           33.72s\n",
      "       385        4691.5454           33.46s\n",
      "       386        4689.3280           33.20s\n",
      "       387        4688.4094           32.91s\n",
      "       388        4686.1827           32.61s\n",
      "       389        4684.5852           32.37s\n",
      "       390        4683.5449           32.09s\n",
      "       391        4681.9344           31.81s\n",
      "       392        4680.6360           31.59s\n",
      "       393        4679.7646           31.36s\n",
      "       394        4678.5847           31.10s\n",
      "       395        4677.3015           30.87s\n",
      "       396        4675.3617           30.59s\n",
      "       397        4672.9500           30.28s\n",
      "       398        4667.9114           29.98s\n",
      "       399        4665.5961           29.72s\n",
      "       400        4663.5734           29.45s\n",
      "       401        4660.5278           29.17s\n",
      "       402        4658.2568           28.91s\n",
      "       403        4655.4168           28.62s\n",
      "       404        4652.7097           28.32s\n",
      "       405        4651.3352           28.04s\n",
      "       406        4648.6686           27.72s\n",
      "       407        4646.9534           27.40s\n",
      "       408        4645.6103           27.09s\n",
      "       409        4644.3759           26.77s\n",
      "       410        4642.4597           26.46s\n",
      "       411        4640.0180           26.14s\n",
      "       412        4638.9409           25.83s\n",
      "       413        4637.0701           25.51s\n",
      "       414        4634.7503           25.20s\n",
      "       415        4632.5756           24.92s\n",
      "       416        4630.2393           24.62s\n",
      "       417        4628.6990           24.32s\n",
      "       418        4627.0221           24.02s\n",
      "       419        4625.1482           23.71s\n",
      "       420        4619.7552           23.40s\n",
      "       421        4617.7970           23.09s\n",
      "       422        4616.4215           22.78s\n",
      "       423        4614.7191           22.47s\n",
      "       424        4612.0682           22.15s\n",
      "       425        4609.2649           21.85s\n",
      "       426        4606.3758           21.54s\n",
      "       427        4604.2825           21.23s\n",
      "       428        4601.8004           20.92s\n",
      "       429        4599.5033           20.61s\n",
      "       430        4598.5537           20.31s\n",
      "       431        4597.8399           20.00s\n",
      "       432        4597.3944           19.70s\n",
      "       433        4596.3259           19.40s\n",
      "       434        4595.1990           19.09s\n",
      "       435        4594.1427           18.79s\n",
      "       436        4591.3196           18.49s\n",
      "       437        4588.4831           18.18s\n",
      "       438        4582.5320           17.89s\n",
      "       439        4580.5699           17.60s\n",
      "       440        4577.5701           17.30s\n",
      "       441        4575.2862           16.99s\n",
      "       442        4573.4474           16.70s\n",
      "       443        4572.2804           16.40s\n",
      "       444        4571.0370           16.11s\n",
      "       445        4569.0119           15.83s\n",
      "       446        4567.6097           15.55s\n",
      "       447        4566.5435           15.25s\n",
      "       448        4564.9158           14.96s\n",
      "       449        4563.5318           14.68s\n",
      "       450        4562.2006           14.40s\n",
      "       451        4560.0384           14.11s\n",
      "       452        4557.2375           13.82s\n",
      "       453        4554.2746           13.54s\n",
      "       454        4553.3534           13.24s\n",
      "       455        4550.5583           12.95s\n",
      "       456        4549.0107           12.66s\n",
      "       457        4547.0829           12.38s\n",
      "       458        4545.8096           12.10s\n",
      "       459        4543.1138           11.82s\n",
      "       460        4541.5263           11.53s\n",
      "       461        4540.3689           11.24s\n",
      "       462        4538.9727           10.95s\n",
      "       463        4535.8865           10.66s\n",
      "       464        4534.3309           10.38s\n",
      "       465        4533.3798           10.10s\n",
      "       466        4531.3212            9.82s\n",
      "       467        4531.0057            9.55s\n",
      "       468        4527.4509            9.27s\n",
      "       469        4525.4313            8.98s\n",
      "       470        4523.5316            8.70s\n",
      "       471        4521.1711            8.42s\n",
      "       472        4519.7917            8.13s\n",
      "       473        4518.6019            7.85s\n",
      "       474        4516.6936            7.58s\n",
      "       475        4515.4187            7.29s\n",
      "       476        4513.0194            7.00s\n",
      "       477        4510.6854            6.71s\n",
      "       478        4506.9064            6.42s\n",
      "       479        4504.7718            6.13s\n",
      "       480        4503.4120            5.84s\n",
      "       481        4501.1046            5.55s\n",
      "       482        4500.0658            5.26s\n",
      "       483        4498.2159            4.97s\n",
      "       484        4497.4118            4.68s\n",
      "       485        4495.9076            4.39s\n",
      "       486        4493.7784            4.10s\n",
      "       487        4491.2498            3.80s\n",
      "       488        4489.6102            3.51s\n",
      "       489        4488.2421            3.22s\n",
      "       490        4485.6789            2.93s\n",
      "       491        4484.4685            2.63s\n",
      "       492        4482.5511            2.34s\n",
      "       493        4480.7940            2.05s\n",
      "       494        4478.1011            1.76s\n",
      "       495        4476.6301            1.46s\n",
      "       496        4475.7511            1.17s\n",
      "       497        4474.4428            0.88s\n",
      "       498        4472.9195            0.59s\n",
      "       499        4472.0004            0.29s\n",
      "       500        4470.4195            0.00s\n"
     ]
    },
    {
     "data": {
      "text/plain": [
       "GradientBoostingClassifier(ccp_alpha=0.0, criterion='friedman_mse', init=None,\n",
       "                           learning_rate=0.09, loss='deviance', max_depth=3,\n",
       "                           max_features=None, max_leaf_nodes=None,\n",
       "                           min_impurity_decrease=0.0, min_impurity_split=None,\n",
       "                           min_samples_leaf=1, min_samples_split=2,\n",
       "                           min_weight_fraction_leaf=0.0, n_estimators=500,\n",
       "                           n_iter_no_change=None, presort='deprecated',\n",
       "                           random_state=None, subsample=1.0, tol=0.0001,\n",
       "                           validation_fraction=0.1, verbose=2,\n",
       "                           warm_start=False)"
      ]
     },
     "execution_count": 62,
     "metadata": {},
     "output_type": "execute_result"
    }
   ],
   "source": [
    "classifier4 =  GradientBoostingClassifier(n_estimators=500,verbose=2,learning_rate=0.090)\n",
    "classifier4.fit(ct2.transform(data_X),data_y.pet_category)"
   ]
  },
  {
   "cell_type": "code",
   "execution_count": 63,
   "metadata": {
    "colab": {
     "base_uri": "https://localhost:8080/",
     "height": 34
    },
    "colab_type": "code",
    "id": "_wweCKDsyUJG",
    "outputId": "786fa7bb-bf04-4a5b-c8dd-c6e8df295900"
   },
   "outputs": [
    {
     "data": {
      "text/plain": [
       "Index(['breed_category', 'pet_category'], dtype='object')"
      ]
     },
     "execution_count": 63,
     "metadata": {},
     "output_type": "execute_result"
    }
   ],
   "source": [
    "data_y.columns"
   ]
  },
  {
   "cell_type": "code",
   "execution_count": 64,
   "metadata": {
    "colab": {
     "base_uri": "https://localhost:8080/",
     "height": 221
    },
    "colab_type": "code",
    "id": "BPpwetm2ypC3",
    "outputId": "75de4a02-8097-498e-dd17-813afff4935b"
   },
   "outputs": [
    {
     "data": {
      "text/plain": [
       "0        0.0\n",
       "1        0.0\n",
       "2        0.0\n",
       "3        2.0\n",
       "4        0.0\n",
       "        ... \n",
       "18830    0.0\n",
       "18831    2.0\n",
       "18832    1.0\n",
       "18833    1.0\n",
       "18834    1.0\n",
       "Name: breed_category, Length: 18835, dtype: float64"
      ]
     },
     "execution_count": 64,
     "metadata": {},
     "output_type": "execute_result"
    }
   ],
   "source": [
    "data_y.breed_category"
   ]
  },
  {
   "cell_type": "code",
   "execution_count": 65,
   "metadata": {
    "colab": {},
    "colab_type": "code",
    "id": "zv_414G9zSFK"
   },
   "outputs": [],
   "source": [
    "Test_breed = classifier3.predict(ct2.transform(test1))\n",
    "Test_cat = classifier4.predict(ct2.transform(test1))"
   ]
  },
  {
   "cell_type": "code",
   "execution_count": 66,
   "metadata": {
    "colab": {},
    "colab_type": "code",
    "id": "RyU2ZQ4LyxoG"
   },
   "outputs": [],
   "source": [
    "Train_breed = classifier3.predict(ct2.transform(data_X))\n",
    "Train_cat = classifier4.predict(ct2.transform(data_X))"
   ]
  },
  {
   "cell_type": "code",
   "execution_count": 67,
   "metadata": {
    "colab": {},
    "colab_type": "code",
    "id": "IHQED4ZjzjdY"
   },
   "outputs": [],
   "source": [
    "from sklearn.metrics import accuracy_score, confusion_matrix\n",
    "met1 = confusion_matrix(data_y.breed_category,Train_breed)\n",
    "met2 = confusion_matrix(data_y.pet_category,Train_cat)"
   ]
  },
  {
   "cell_type": "code",
   "execution_count": 68,
   "metadata": {
    "colab": {
     "base_uri": "https://localhost:8080/",
     "height": 68
    },
    "colab_type": "code",
    "id": "9j3AjYwSz6do",
    "outputId": "7398eb09-49e4-4c3b-a322-7a50db3c4f28"
   },
   "outputs": [
    {
     "data": {
      "text/plain": [
       "array([[8672,  329,    0],\n",
       "       [ 533, 7824,    0],\n",
       "       [   0,    0, 1477]])"
      ]
     },
     "execution_count": 68,
     "metadata": {},
     "output_type": "execute_result"
    }
   ],
   "source": [
    "met1"
   ]
  },
  {
   "cell_type": "code",
   "execution_count": 69,
   "metadata": {
    "colab": {
     "base_uri": "https://localhost:8080/",
     "height": 85
    },
    "colab_type": "code",
    "id": "dFuZIfbIz7N5",
    "outputId": "a0dd7fb5-228c-4e19-f605-f7a2a758efe3"
   },
   "outputs": [
    {
     "data": {
      "text/plain": [
       "array([[   81,     2,     3,     2],\n",
       "       [    0,  5797,  1379,     9],\n",
       "       [    0,   440, 10169,    12],\n",
       "       [    0,    35,   108,   798]])"
      ]
     },
     "execution_count": 69,
     "metadata": {},
     "output_type": "execute_result"
    }
   ],
   "source": [
    "met2"
   ]
  },
  {
   "cell_type": "code",
   "execution_count": 70,
   "metadata": {
    "colab": {},
    "colab_type": "code",
    "id": "Op_A6SPU06PE"
   },
   "outputs": [],
   "source": [
    "acc = accuracy_score(data_y.breed_category,Train_breed)\n",
    "acc1 = accuracy_score(data_y.pet_category,Train_cat)"
   ]
  },
  {
   "cell_type": "code",
   "execution_count": 71,
   "metadata": {
    "colab": {
     "base_uri": "https://localhost:8080/",
     "height": 34
    },
    "colab_type": "code",
    "id": "u2FXbAGY1ALc",
    "outputId": "780170b4-7abd-4720-ecfa-13669512a08d"
   },
   "outputs": [
    {
     "data": {
      "text/plain": [
       "0.9542341385718078"
      ]
     },
     "execution_count": 71,
     "metadata": {},
     "output_type": "execute_result"
    }
   ],
   "source": [
    "acc"
   ]
  },
  {
   "cell_type": "code",
   "execution_count": 72,
   "metadata": {
    "colab": {
     "base_uri": "https://localhost:8080/",
     "height": 34
    },
    "colab_type": "code",
    "id": "gcvDdwdK1AxN",
    "outputId": "8fecbf04-5f13-4478-d85b-6ad45c386434"
   },
   "outputs": [
    {
     "data": {
      "text/plain": [
       "0.8943456331298115"
      ]
     },
     "execution_count": 72,
     "metadata": {},
     "output_type": "execute_result"
    }
   ],
   "source": [
    "acc1"
   ]
  },
  {
   "cell_type": "code",
   "execution_count": 73,
   "metadata": {
    "colab": {},
    "colab_type": "code",
    "id": "n8DdbSAt1BPI"
   },
   "outputs": [],
   "source": [
    "f = open('result.csv',\"w\")\n",
    "count=0\n",
    "f.write('pet_id,breed_category,pet_category')\n",
    "for i in range(len(test)):\n",
    "    f.write(f'\\n{test[\"pet_id\"][i]},{int(Test_breed[i])},{int(Test_cat[i])} ')\n",
    "    count+=1\n",
    "f.close()"
   ]
  },
  {
   "cell_type": "code",
   "execution_count": 74,
   "metadata": {},
   "outputs": [
    {
     "data": {
      "text/plain": [
       "array([2., 1., 3., 0.])"
      ]
     },
     "execution_count": 74,
     "metadata": {},
     "output_type": "execute_result"
    }
   ],
   "source": [
    "data_X.condition.unique()"
   ]
  },
  {
   "cell_type": "code",
   "execution_count": 75,
   "metadata": {},
   "outputs": [
    {
     "data": {
      "text/plain": [
       "array([0., 1., 2., 3.])"
      ]
     },
     "execution_count": 75,
     "metadata": {},
     "output_type": "execute_result"
    }
   ],
   "source": [
    "test1.condition.unique()"
   ]
  },
  {
   "cell_type": "code",
   "execution_count": null,
   "metadata": {},
   "outputs": [],
   "source": []
  }
 ],
 "metadata": {
  "colab": {
   "collapsed_sections": [],
   "name": "hackerearth_pet_changingnull",
   "provenance": []
  },
  "kernelspec": {
   "display_name": "Python 3",
   "language": "python",
   "name": "python3"
  },
  "language_info": {
   "codemirror_mode": {
    "name": "ipython",
    "version": 3
   },
   "file_extension": ".py",
   "mimetype": "text/x-python",
   "name": "python",
   "nbconvert_exporter": "python",
   "pygments_lexer": "ipython3",
   "version": "3.7.7"
  }
 },
 "nbformat": 4,
 "nbformat_minor": 1
}
